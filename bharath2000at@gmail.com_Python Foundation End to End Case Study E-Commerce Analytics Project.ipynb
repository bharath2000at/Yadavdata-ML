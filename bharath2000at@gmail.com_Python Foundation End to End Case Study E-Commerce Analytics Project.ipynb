{
 "cells": [
  {
   "cell_type": "markdown",
   "id": "956deed0",
   "metadata": {},
   "source": [
    "#   Marketing Analytics for e-commerce market palce company\n",
    "                                                        \n"
   ]
  },
  {
   "cell_type": "code",
   "execution_count": 5,
   "id": "e32908be",
   "metadata": {},
   "outputs": [],
   "source": [
    "import pandas as pd\n",
    "import numpy as np\n",
    "import seaborn as sns\n",
    "from functools import reduce\n",
    "import scipy.stats as stats\n",
    "import statistics as statz\n",
    "\n",
    "import matplotlib.pyplot as plt\n",
    "%matplotlib inline"
   ]
  },
  {
   "cell_type": "markdown",
   "id": "6870b4ba",
   "metadata": {},
   "source": [
    "# importing data "
   ]
  },
  {
   "cell_type": "code",
   "execution_count": 6,
   "id": "b4ecb3e4",
   "metadata": {},
   "outputs": [],
   "source": [
    "customers = pd.read_csv(r\"C:\\Users\\yadav\\Documents\\excersise\\CUSTOMERS.csv\")\n",
    "sellers = pd.read_csv(r\"C:\\Users\\yadav\\Documents\\excersise\\SELLERS.csv\")\n",
    "products=pd.read_csv(r\"C:\\Users\\yadav\\Documents\\excersise\\PRODUCTS.csv\")\n",
    "orders=pd.read_csv(r\"C:\\Users\\yadav\\Documents\\excersise\\ORDERS.csv\")\n",
    "order_iteams=pd.read_csv(r\"C:\\Users\\yadav\\Documents\\excersise\\ORDER_ITEMS.csv\")\n",
    "order_payments=pd.read_csv(r\"C:\\Users\\yadav\\Documents\\excersise\\ORDER_PAYMENTS.csv\")\n",
    "order_Review_Ratings=pd.read_csv(r\"C:\\Users\\yadav\\Documents\\excersise\\ORDER_REVIEW_RATINGS.csv\")\n",
    "geo_Location=pd.read_csv(r\"C:\\Users\\yadav\\Documents\\excersise\\GEO_LOCATION.csv\")"
   ]
  },
  {
   "cell_type": "code",
   "execution_count": 7,
   "id": "f920451b",
   "metadata": {},
   "outputs": [
    {
     "data": {
      "text/html": [
       "<div>\n",
       "<style scoped>\n",
       "    .dataframe tbody tr th:only-of-type {\n",
       "        vertical-align: middle;\n",
       "    }\n",
       "\n",
       "    .dataframe tbody tr th {\n",
       "        vertical-align: top;\n",
       "    }\n",
       "\n",
       "    .dataframe thead th {\n",
       "        text-align: right;\n",
       "    }\n",
       "</style>\n",
       "<table border=\"1\" class=\"dataframe\">\n",
       "  <thead>\n",
       "    <tr style=\"text-align: right;\">\n",
       "      <th></th>\n",
       "      <th>customer_id</th>\n",
       "      <th>customer_unique_id</th>\n",
       "      <th>customer_zip_code_prefix</th>\n",
       "      <th>customer_city</th>\n",
       "      <th>customer_state</th>\n",
       "    </tr>\n",
       "  </thead>\n",
       "  <tbody>\n",
       "    <tr>\n",
       "      <th>0</th>\n",
       "      <td>06b8999e2fba1a1fbc88172c00ba8bc7</td>\n",
       "      <td>861eff4711a542e4b93843c6dd7febb0</td>\n",
       "      <td>14409</td>\n",
       "      <td>Adilabad</td>\n",
       "      <td>Andhra Pradesh</td>\n",
       "    </tr>\n",
       "    <tr>\n",
       "      <th>1</th>\n",
       "      <td>18955e83d337fd6b2def6b18a428ac77</td>\n",
       "      <td>290c77bc529b7ac935b93aa66c333dc3</td>\n",
       "      <td>9790</td>\n",
       "      <td>Adoni</td>\n",
       "      <td>Andhra Pradesh</td>\n",
       "    </tr>\n",
       "    <tr>\n",
       "      <th>2</th>\n",
       "      <td>4e7b3e00288586ebd08712fdd0374a03</td>\n",
       "      <td>060e732b5b29e8181a18229c7b0b2b5e</td>\n",
       "      <td>1151</td>\n",
       "      <td>Akkarampalle</td>\n",
       "      <td>Andhra Pradesh</td>\n",
       "    </tr>\n",
       "    <tr>\n",
       "      <th>3</th>\n",
       "      <td>b2b6027bc5c5109e529d4dc6358b12c3</td>\n",
       "      <td>259dac757896d24d7702b9acbbff3f3c</td>\n",
       "      <td>8775</td>\n",
       "      <td>Akkayapalle</td>\n",
       "      <td>Andhra Pradesh</td>\n",
       "    </tr>\n",
       "    <tr>\n",
       "      <th>4</th>\n",
       "      <td>4f2d8ab171c80ec8364f7c12e35b23ad</td>\n",
       "      <td>345ecd01c38d18a9036ed96c73b8d066</td>\n",
       "      <td>13056</td>\n",
       "      <td>Alwal</td>\n",
       "      <td>Andhra Pradesh</td>\n",
       "    </tr>\n",
       "  </tbody>\n",
       "</table>\n",
       "</div>"
      ],
      "text/plain": [
       "                        customer_id                customer_unique_id  \\\n",
       "0  06b8999e2fba1a1fbc88172c00ba8bc7  861eff4711a542e4b93843c6dd7febb0   \n",
       "1  18955e83d337fd6b2def6b18a428ac77  290c77bc529b7ac935b93aa66c333dc3   \n",
       "2  4e7b3e00288586ebd08712fdd0374a03  060e732b5b29e8181a18229c7b0b2b5e   \n",
       "3  b2b6027bc5c5109e529d4dc6358b12c3  259dac757896d24d7702b9acbbff3f3c   \n",
       "4  4f2d8ab171c80ec8364f7c12e35b23ad  345ecd01c38d18a9036ed96c73b8d066   \n",
       "\n",
       "   customer_zip_code_prefix customer_city  customer_state  \n",
       "0                     14409      Adilabad  Andhra Pradesh  \n",
       "1                      9790         Adoni  Andhra Pradesh  \n",
       "2                      1151  Akkarampalle  Andhra Pradesh  \n",
       "3                      8775   Akkayapalle  Andhra Pradesh  \n",
       "4                     13056         Alwal  Andhra Pradesh  "
      ]
     },
     "execution_count": 7,
     "metadata": {},
     "output_type": "execute_result"
    }
   ],
   "source": [
    "customers.head()"
   ]
  },
  {
   "cell_type": "code",
   "execution_count": 8,
   "id": "3a7b2851",
   "metadata": {},
   "outputs": [
    {
     "data": {
      "text/plain": [
       "customer_id                 object\n",
       "customer_unique_id          object\n",
       "customer_zip_code_prefix     int64\n",
       "customer_city               object\n",
       "customer_state              object\n",
       "dtype: object"
      ]
     },
     "execution_count": 8,
     "metadata": {},
     "output_type": "execute_result"
    }
   ],
   "source": [
    "customers.dtypes"
   ]
  },
  {
   "cell_type": "code",
   "execution_count": 9,
   "id": "67c50445",
   "metadata": {},
   "outputs": [
    {
     "data": {
      "text/html": [
       "<div>\n",
       "<style scoped>\n",
       "    .dataframe tbody tr th:only-of-type {\n",
       "        vertical-align: middle;\n",
       "    }\n",
       "\n",
       "    .dataframe tbody tr th {\n",
       "        vertical-align: top;\n",
       "    }\n",
       "\n",
       "    .dataframe thead th {\n",
       "        text-align: right;\n",
       "    }\n",
       "</style>\n",
       "<table border=\"1\" class=\"dataframe\">\n",
       "  <thead>\n",
       "    <tr style=\"text-align: right;\">\n",
       "      <th></th>\n",
       "      <th>seller_id</th>\n",
       "      <th>seller_zip_code_prefix</th>\n",
       "      <th>seller_city</th>\n",
       "      <th>seller_state</th>\n",
       "    </tr>\n",
       "  </thead>\n",
       "  <tbody>\n",
       "    <tr>\n",
       "      <th>0</th>\n",
       "      <td>3442f8959a84dea7ee197c632cb2df15</td>\n",
       "      <td>13023</td>\n",
       "      <td>Alwal</td>\n",
       "      <td>Andhra Pradesh</td>\n",
       "    </tr>\n",
       "    <tr>\n",
       "      <th>1</th>\n",
       "      <td>d1b65fc7debc3361ea86b5f14c68d2e2</td>\n",
       "      <td>13023</td>\n",
       "      <td>Alwal</td>\n",
       "      <td>Andhra Pradesh</td>\n",
       "    </tr>\n",
       "    <tr>\n",
       "      <th>2</th>\n",
       "      <td>ce3ad9de960102d0677a81f5d0bb7b2d</td>\n",
       "      <td>20031</td>\n",
       "      <td>Badepalle</td>\n",
       "      <td>Andhra Pradesh</td>\n",
       "    </tr>\n",
       "    <tr>\n",
       "      <th>3</th>\n",
       "      <td>c0f3eea2e14555b6faeea3dd58c1b1c3</td>\n",
       "      <td>4195</td>\n",
       "      <td>Akkarampalle</td>\n",
       "      <td>Andhra Pradesh</td>\n",
       "    </tr>\n",
       "    <tr>\n",
       "      <th>4</th>\n",
       "      <td>51a04a8a6bdcb23deccc82b0b80742cf</td>\n",
       "      <td>12914</td>\n",
       "      <td>Koratla</td>\n",
       "      <td>Andhra Pradesh</td>\n",
       "    </tr>\n",
       "    <tr>\n",
       "      <th>...</th>\n",
       "      <td>...</td>\n",
       "      <td>...</td>\n",
       "      <td>...</td>\n",
       "      <td>...</td>\n",
       "    </tr>\n",
       "    <tr>\n",
       "      <th>3090</th>\n",
       "      <td>98dddbc4601dd4443ca174359b237166</td>\n",
       "      <td>87111</td>\n",
       "      <td>Kalan Wali</td>\n",
       "      <td>Haryana</td>\n",
       "    </tr>\n",
       "    <tr>\n",
       "      <th>3091</th>\n",
       "      <td>f8201cab383e484733266d1906e2fdfa</td>\n",
       "      <td>88137</td>\n",
       "      <td>Bopal</td>\n",
       "      <td>Gujarat</td>\n",
       "    </tr>\n",
       "    <tr>\n",
       "      <th>3092</th>\n",
       "      <td>74871d19219c7d518d0090283e03c137</td>\n",
       "      <td>4650</td>\n",
       "      <td>Akkarampalle</td>\n",
       "      <td>Andhra Pradesh</td>\n",
       "    </tr>\n",
       "    <tr>\n",
       "      <th>3093</th>\n",
       "      <td>e603cf3fec55f8697c9059638d6c8eb5</td>\n",
       "      <td>96080</td>\n",
       "      <td>Ekambara kuppam</td>\n",
       "      <td>Andhra Pradesh</td>\n",
       "    </tr>\n",
       "    <tr>\n",
       "      <th>3094</th>\n",
       "      <td>9e25199f6ef7e7c347120ff175652c3b</td>\n",
       "      <td>12051</td>\n",
       "      <td>Khongapani</td>\n",
       "      <td>Chhattisgarh</td>\n",
       "    </tr>\n",
       "  </tbody>\n",
       "</table>\n",
       "<p>3095 rows × 4 columns</p>\n",
       "</div>"
      ],
      "text/plain": [
       "                             seller_id  seller_zip_code_prefix  \\\n",
       "0     3442f8959a84dea7ee197c632cb2df15                   13023   \n",
       "1     d1b65fc7debc3361ea86b5f14c68d2e2                   13023   \n",
       "2     ce3ad9de960102d0677a81f5d0bb7b2d                   20031   \n",
       "3     c0f3eea2e14555b6faeea3dd58c1b1c3                    4195   \n",
       "4     51a04a8a6bdcb23deccc82b0b80742cf                   12914   \n",
       "...                                ...                     ...   \n",
       "3090  98dddbc4601dd4443ca174359b237166                   87111   \n",
       "3091  f8201cab383e484733266d1906e2fdfa                   88137   \n",
       "3092  74871d19219c7d518d0090283e03c137                    4650   \n",
       "3093  e603cf3fec55f8697c9059638d6c8eb5                   96080   \n",
       "3094  9e25199f6ef7e7c347120ff175652c3b                   12051   \n",
       "\n",
       "          seller_city    seller_state  \n",
       "0               Alwal  Andhra Pradesh  \n",
       "1               Alwal  Andhra Pradesh  \n",
       "2           Badepalle  Andhra Pradesh  \n",
       "3        Akkarampalle  Andhra Pradesh  \n",
       "4             Koratla  Andhra Pradesh  \n",
       "...               ...             ...  \n",
       "3090       Kalan Wali         Haryana  \n",
       "3091            Bopal         Gujarat  \n",
       "3092     Akkarampalle  Andhra Pradesh  \n",
       "3093  Ekambara kuppam  Andhra Pradesh  \n",
       "3094       Khongapani    Chhattisgarh  \n",
       "\n",
       "[3095 rows x 4 columns]"
      ]
     },
     "execution_count": 9,
     "metadata": {},
     "output_type": "execute_result"
    }
   ],
   "source": [
    "sellers"
   ]
  },
  {
   "cell_type": "code",
   "execution_count": 10,
   "id": "ed454eac",
   "metadata": {},
   "outputs": [
    {
     "data": {
      "text/html": [
       "<div>\n",
       "<style scoped>\n",
       "    .dataframe tbody tr th:only-of-type {\n",
       "        vertical-align: middle;\n",
       "    }\n",
       "\n",
       "    .dataframe tbody tr th {\n",
       "        vertical-align: top;\n",
       "    }\n",
       "\n",
       "    .dataframe thead th {\n",
       "        text-align: right;\n",
       "    }\n",
       "</style>\n",
       "<table border=\"1\" class=\"dataframe\">\n",
       "  <thead>\n",
       "    <tr style=\"text-align: right;\">\n",
       "      <th></th>\n",
       "      <th>product_id</th>\n",
       "      <th>product_category_name</th>\n",
       "      <th>product_name_lenght</th>\n",
       "      <th>product_description_lenght</th>\n",
       "      <th>product_photos_qty</th>\n",
       "      <th>product_weight_g</th>\n",
       "      <th>product_length_cm</th>\n",
       "      <th>product_height_cm</th>\n",
       "      <th>product_width_cm</th>\n",
       "    </tr>\n",
       "  </thead>\n",
       "  <tbody>\n",
       "    <tr>\n",
       "      <th>0</th>\n",
       "      <td>1e9e8ef04dbcff4541ed26657ea517e5</td>\n",
       "      <td>Perfumery</td>\n",
       "      <td>40.0</td>\n",
       "      <td>287.0</td>\n",
       "      <td>1.0</td>\n",
       "      <td>225.0</td>\n",
       "      <td>16.0</td>\n",
       "      <td>10.0</td>\n",
       "      <td>14.0</td>\n",
       "    </tr>\n",
       "    <tr>\n",
       "      <th>1</th>\n",
       "      <td>3aa071139cb16b67ca9e5dea641aaa2f</td>\n",
       "      <td>Art</td>\n",
       "      <td>44.0</td>\n",
       "      <td>276.0</td>\n",
       "      <td>1.0</td>\n",
       "      <td>1000.0</td>\n",
       "      <td>30.0</td>\n",
       "      <td>18.0</td>\n",
       "      <td>20.0</td>\n",
       "    </tr>\n",
       "    <tr>\n",
       "      <th>2</th>\n",
       "      <td>96bd76ec8810374ed1b65e291975717f</td>\n",
       "      <td>Sports_Leisure</td>\n",
       "      <td>46.0</td>\n",
       "      <td>250.0</td>\n",
       "      <td>1.0</td>\n",
       "      <td>154.0</td>\n",
       "      <td>18.0</td>\n",
       "      <td>9.0</td>\n",
       "      <td>15.0</td>\n",
       "    </tr>\n",
       "    <tr>\n",
       "      <th>3</th>\n",
       "      <td>cef67bcfe19066a932b7673e239eb23d</td>\n",
       "      <td>Baby</td>\n",
       "      <td>27.0</td>\n",
       "      <td>261.0</td>\n",
       "      <td>1.0</td>\n",
       "      <td>371.0</td>\n",
       "      <td>26.0</td>\n",
       "      <td>4.0</td>\n",
       "      <td>26.0</td>\n",
       "    </tr>\n",
       "    <tr>\n",
       "      <th>4</th>\n",
       "      <td>9dc1a7de274444849c219cff195d0b71</td>\n",
       "      <td>Housewares</td>\n",
       "      <td>37.0</td>\n",
       "      <td>402.0</td>\n",
       "      <td>4.0</td>\n",
       "      <td>625.0</td>\n",
       "      <td>20.0</td>\n",
       "      <td>17.0</td>\n",
       "      <td>13.0</td>\n",
       "    </tr>\n",
       "    <tr>\n",
       "      <th>...</th>\n",
       "      <td>...</td>\n",
       "      <td>...</td>\n",
       "      <td>...</td>\n",
       "      <td>...</td>\n",
       "      <td>...</td>\n",
       "      <td>...</td>\n",
       "      <td>...</td>\n",
       "      <td>...</td>\n",
       "      <td>...</td>\n",
       "    </tr>\n",
       "    <tr>\n",
       "      <th>32946</th>\n",
       "      <td>a0b7d5a992ccda646f2d34e418fff5a0</td>\n",
       "      <td>Furniture_Decor</td>\n",
       "      <td>45.0</td>\n",
       "      <td>67.0</td>\n",
       "      <td>2.0</td>\n",
       "      <td>12300.0</td>\n",
       "      <td>40.0</td>\n",
       "      <td>40.0</td>\n",
       "      <td>40.0</td>\n",
       "    </tr>\n",
       "    <tr>\n",
       "      <th>32947</th>\n",
       "      <td>bf4538d88321d0fd4412a93c974510e6</td>\n",
       "      <td>Construction_Tools_Lights</td>\n",
       "      <td>41.0</td>\n",
       "      <td>971.0</td>\n",
       "      <td>1.0</td>\n",
       "      <td>1700.0</td>\n",
       "      <td>16.0</td>\n",
       "      <td>19.0</td>\n",
       "      <td>16.0</td>\n",
       "    </tr>\n",
       "    <tr>\n",
       "      <th>32948</th>\n",
       "      <td>9a7c6041fa9592d9d9ef6cfe62a71f8c</td>\n",
       "      <td>Bed_Bath_Table</td>\n",
       "      <td>50.0</td>\n",
       "      <td>799.0</td>\n",
       "      <td>1.0</td>\n",
       "      <td>1400.0</td>\n",
       "      <td>27.0</td>\n",
       "      <td>7.0</td>\n",
       "      <td>27.0</td>\n",
       "    </tr>\n",
       "    <tr>\n",
       "      <th>32949</th>\n",
       "      <td>83808703fc0706a22e264b9d75f04a2e</td>\n",
       "      <td>Computers_Accessories</td>\n",
       "      <td>60.0</td>\n",
       "      <td>156.0</td>\n",
       "      <td>2.0</td>\n",
       "      <td>700.0</td>\n",
       "      <td>31.0</td>\n",
       "      <td>13.0</td>\n",
       "      <td>20.0</td>\n",
       "    </tr>\n",
       "    <tr>\n",
       "      <th>32950</th>\n",
       "      <td>106392145fca363410d287a815be6de4</td>\n",
       "      <td>Bed_Bath_Table</td>\n",
       "      <td>58.0</td>\n",
       "      <td>309.0</td>\n",
       "      <td>1.0</td>\n",
       "      <td>2083.0</td>\n",
       "      <td>12.0</td>\n",
       "      <td>2.0</td>\n",
       "      <td>7.0</td>\n",
       "    </tr>\n",
       "  </tbody>\n",
       "</table>\n",
       "<p>32951 rows × 9 columns</p>\n",
       "</div>"
      ],
      "text/plain": [
       "                             product_id      product_category_name  \\\n",
       "0      1e9e8ef04dbcff4541ed26657ea517e5                  Perfumery   \n",
       "1      3aa071139cb16b67ca9e5dea641aaa2f                        Art   \n",
       "2      96bd76ec8810374ed1b65e291975717f             Sports_Leisure   \n",
       "3      cef67bcfe19066a932b7673e239eb23d                       Baby   \n",
       "4      9dc1a7de274444849c219cff195d0b71                 Housewares   \n",
       "...                                 ...                        ...   \n",
       "32946  a0b7d5a992ccda646f2d34e418fff5a0            Furniture_Decor   \n",
       "32947  bf4538d88321d0fd4412a93c974510e6  Construction_Tools_Lights   \n",
       "32948  9a7c6041fa9592d9d9ef6cfe62a71f8c             Bed_Bath_Table   \n",
       "32949  83808703fc0706a22e264b9d75f04a2e      Computers_Accessories   \n",
       "32950  106392145fca363410d287a815be6de4             Bed_Bath_Table   \n",
       "\n",
       "       product_name_lenght  product_description_lenght  product_photos_qty  \\\n",
       "0                     40.0                       287.0                 1.0   \n",
       "1                     44.0                       276.0                 1.0   \n",
       "2                     46.0                       250.0                 1.0   \n",
       "3                     27.0                       261.0                 1.0   \n",
       "4                     37.0                       402.0                 4.0   \n",
       "...                    ...                         ...                 ...   \n",
       "32946                 45.0                        67.0                 2.0   \n",
       "32947                 41.0                       971.0                 1.0   \n",
       "32948                 50.0                       799.0                 1.0   \n",
       "32949                 60.0                       156.0                 2.0   \n",
       "32950                 58.0                       309.0                 1.0   \n",
       "\n",
       "       product_weight_g  product_length_cm  product_height_cm  \\\n",
       "0                 225.0               16.0               10.0   \n",
       "1                1000.0               30.0               18.0   \n",
       "2                 154.0               18.0                9.0   \n",
       "3                 371.0               26.0                4.0   \n",
       "4                 625.0               20.0               17.0   \n",
       "...                 ...                ...                ...   \n",
       "32946           12300.0               40.0               40.0   \n",
       "32947            1700.0               16.0               19.0   \n",
       "32948            1400.0               27.0                7.0   \n",
       "32949             700.0               31.0               13.0   \n",
       "32950            2083.0               12.0                2.0   \n",
       "\n",
       "       product_width_cm  \n",
       "0                  14.0  \n",
       "1                  20.0  \n",
       "2                  15.0  \n",
       "3                  26.0  \n",
       "4                  13.0  \n",
       "...                 ...  \n",
       "32946              40.0  \n",
       "32947              16.0  \n",
       "32948              27.0  \n",
       "32949              20.0  \n",
       "32950               7.0  \n",
       "\n",
       "[32951 rows x 9 columns]"
      ]
     },
     "execution_count": 10,
     "metadata": {},
     "output_type": "execute_result"
    }
   ],
   "source": [
    "products"
   ]
  },
  {
   "cell_type": "code",
   "execution_count": 11,
   "id": "daa109a3",
   "metadata": {},
   "outputs": [
    {
     "data": {
      "text/plain": [
       "order_id                         object\n",
       "customer_id                      object\n",
       "order_status                     object\n",
       "order_purchase_timestamp         object\n",
       "order_approved_at                object\n",
       "order_delivered_carrier_date     object\n",
       "order_delivered_customer_date    object\n",
       "order_estimated_delivery_date    object\n",
       "dtype: object"
      ]
     },
     "execution_count": 11,
     "metadata": {},
     "output_type": "execute_result"
    }
   ],
   "source": [
    "orders.dtypes\n"
   ]
  },
  {
   "cell_type": "code",
   "execution_count": 12,
   "id": "f4950da3",
   "metadata": {},
   "outputs": [
    {
     "data": {
      "text/plain": [
       "order_id                object\n",
       "order_item_id            int64\n",
       "product_id              object\n",
       "seller_id               object\n",
       "shipping_limit_date     object\n",
       "price                  float64\n",
       "freight_value          float64\n",
       "dtype: object"
      ]
     },
     "execution_count": 12,
     "metadata": {},
     "output_type": "execute_result"
    }
   ],
   "source": [
    "order_iteams.dtypes"
   ]
  },
  {
   "cell_type": "code",
   "execution_count": 13,
   "id": "b13334fa",
   "metadata": {},
   "outputs": [
    {
     "data": {
      "text/plain": [
       "order_id                 object\n",
       "payment_sequential        int64\n",
       "payment_type             object\n",
       "payment_installments      int64\n",
       "payment_value           float64\n",
       "dtype: object"
      ]
     },
     "execution_count": 13,
     "metadata": {},
     "output_type": "execute_result"
    }
   ],
   "source": [
    "order_payments.dtypes"
   ]
  },
  {
   "cell_type": "code",
   "execution_count": 14,
   "id": "d014469a",
   "metadata": {},
   "outputs": [
    {
     "data": {
      "text/html": [
       "<div>\n",
       "<style scoped>\n",
       "    .dataframe tbody tr th:only-of-type {\n",
       "        vertical-align: middle;\n",
       "    }\n",
       "\n",
       "    .dataframe tbody tr th {\n",
       "        vertical-align: top;\n",
       "    }\n",
       "\n",
       "    .dataframe thead th {\n",
       "        text-align: right;\n",
       "    }\n",
       "</style>\n",
       "<table border=\"1\" class=\"dataframe\">\n",
       "  <thead>\n",
       "    <tr style=\"text-align: right;\">\n",
       "      <th></th>\n",
       "      <th>order_id</th>\n",
       "      <th>payment_sequential</th>\n",
       "      <th>payment_type</th>\n",
       "      <th>payment_installments</th>\n",
       "      <th>payment_value</th>\n",
       "    </tr>\n",
       "  </thead>\n",
       "  <tbody>\n",
       "    <tr>\n",
       "      <th>0</th>\n",
       "      <td>b81ef226f3fe1789b1e8b2acac839d17</td>\n",
       "      <td>1</td>\n",
       "      <td>credit_card</td>\n",
       "      <td>8</td>\n",
       "      <td>99.33</td>\n",
       "    </tr>\n",
       "    <tr>\n",
       "      <th>1</th>\n",
       "      <td>a9810da82917af2d9aefd1278f1dcfa0</td>\n",
       "      <td>1</td>\n",
       "      <td>credit_card</td>\n",
       "      <td>1</td>\n",
       "      <td>24.39</td>\n",
       "    </tr>\n",
       "    <tr>\n",
       "      <th>2</th>\n",
       "      <td>25e8ea4e93396b6fa0d3dd708e76c1bd</td>\n",
       "      <td>1</td>\n",
       "      <td>credit_card</td>\n",
       "      <td>1</td>\n",
       "      <td>65.71</td>\n",
       "    </tr>\n",
       "    <tr>\n",
       "      <th>3</th>\n",
       "      <td>ba78997921bbcdc1373bb41e913ab953</td>\n",
       "      <td>1</td>\n",
       "      <td>credit_card</td>\n",
       "      <td>8</td>\n",
       "      <td>107.78</td>\n",
       "    </tr>\n",
       "    <tr>\n",
       "      <th>4</th>\n",
       "      <td>42fdf880ba16b47b59251dd489d4441a</td>\n",
       "      <td>1</td>\n",
       "      <td>credit_card</td>\n",
       "      <td>2</td>\n",
       "      <td>128.45</td>\n",
       "    </tr>\n",
       "    <tr>\n",
       "      <th>...</th>\n",
       "      <td>...</td>\n",
       "      <td>...</td>\n",
       "      <td>...</td>\n",
       "      <td>...</td>\n",
       "      <td>...</td>\n",
       "    </tr>\n",
       "    <tr>\n",
       "      <th>103881</th>\n",
       "      <td>0406037ad97740d563a178ecc7a2075c</td>\n",
       "      <td>1</td>\n",
       "      <td>UPI</td>\n",
       "      <td>1</td>\n",
       "      <td>363.31</td>\n",
       "    </tr>\n",
       "    <tr>\n",
       "      <th>103882</th>\n",
       "      <td>7b905861d7c825891d6347454ea7863f</td>\n",
       "      <td>1</td>\n",
       "      <td>credit_card</td>\n",
       "      <td>2</td>\n",
       "      <td>96.80</td>\n",
       "    </tr>\n",
       "    <tr>\n",
       "      <th>103883</th>\n",
       "      <td>32609bbb3dd69b3c066a6860554a77bf</td>\n",
       "      <td>1</td>\n",
       "      <td>credit_card</td>\n",
       "      <td>1</td>\n",
       "      <td>47.77</td>\n",
       "    </tr>\n",
       "    <tr>\n",
       "      <th>103884</th>\n",
       "      <td>b8b61059626efa996a60be9bb9320e10</td>\n",
       "      <td>1</td>\n",
       "      <td>credit_card</td>\n",
       "      <td>5</td>\n",
       "      <td>369.54</td>\n",
       "    </tr>\n",
       "    <tr>\n",
       "      <th>103885</th>\n",
       "      <td>28bbae6599b09d39ca406b747b6632b1</td>\n",
       "      <td>1</td>\n",
       "      <td>UPI</td>\n",
       "      <td>1</td>\n",
       "      <td>191.58</td>\n",
       "    </tr>\n",
       "  </tbody>\n",
       "</table>\n",
       "<p>103886 rows × 5 columns</p>\n",
       "</div>"
      ],
      "text/plain": [
       "                                order_id  payment_sequential payment_type  \\\n",
       "0       b81ef226f3fe1789b1e8b2acac839d17                   1  credit_card   \n",
       "1       a9810da82917af2d9aefd1278f1dcfa0                   1  credit_card   \n",
       "2       25e8ea4e93396b6fa0d3dd708e76c1bd                   1  credit_card   \n",
       "3       ba78997921bbcdc1373bb41e913ab953                   1  credit_card   \n",
       "4       42fdf880ba16b47b59251dd489d4441a                   1  credit_card   \n",
       "...                                  ...                 ...          ...   \n",
       "103881  0406037ad97740d563a178ecc7a2075c                   1          UPI   \n",
       "103882  7b905861d7c825891d6347454ea7863f                   1  credit_card   \n",
       "103883  32609bbb3dd69b3c066a6860554a77bf                   1  credit_card   \n",
       "103884  b8b61059626efa996a60be9bb9320e10                   1  credit_card   \n",
       "103885  28bbae6599b09d39ca406b747b6632b1                   1          UPI   \n",
       "\n",
       "        payment_installments  payment_value  \n",
       "0                          8          99.33  \n",
       "1                          1          24.39  \n",
       "2                          1          65.71  \n",
       "3                          8         107.78  \n",
       "4                          2         128.45  \n",
       "...                      ...            ...  \n",
       "103881                     1         363.31  \n",
       "103882                     2          96.80  \n",
       "103883                     1          47.77  \n",
       "103884                     5         369.54  \n",
       "103885                     1         191.58  \n",
       "\n",
       "[103886 rows x 5 columns]"
      ]
     },
     "execution_count": 14,
     "metadata": {},
     "output_type": "execute_result"
    }
   ],
   "source": [
    "order_payments"
   ]
  },
  {
   "cell_type": "code",
   "execution_count": 15,
   "id": "cb3bc5b8",
   "metadata": {},
   "outputs": [
    {
     "data": {
      "text/html": [
       "<div>\n",
       "<style scoped>\n",
       "    .dataframe tbody tr th:only-of-type {\n",
       "        vertical-align: middle;\n",
       "    }\n",
       "\n",
       "    .dataframe tbody tr th {\n",
       "        vertical-align: top;\n",
       "    }\n",
       "\n",
       "    .dataframe thead th {\n",
       "        text-align: right;\n",
       "    }\n",
       "</style>\n",
       "<table border=\"1\" class=\"dataframe\">\n",
       "  <thead>\n",
       "    <tr style=\"text-align: right;\">\n",
       "      <th></th>\n",
       "      <th>review_id</th>\n",
       "      <th>order_id</th>\n",
       "      <th>review_score</th>\n",
       "      <th>review_creation_date</th>\n",
       "      <th>review_answer_timestamp</th>\n",
       "    </tr>\n",
       "  </thead>\n",
       "  <tbody>\n",
       "    <tr>\n",
       "      <th>0</th>\n",
       "      <td>7bc2406110b926393aa56f80a40eba40</td>\n",
       "      <td>73fc7af87114b39712e6da79b0a377eb</td>\n",
       "      <td>4</td>\n",
       "      <td>1/18/2018 0:00</td>\n",
       "      <td>1/18/2018 21:46</td>\n",
       "    </tr>\n",
       "    <tr>\n",
       "      <th>1</th>\n",
       "      <td>80e641a11e56f04c1ad469d5645fdfde</td>\n",
       "      <td>a548910a1c6147796b98fdf73dbeba33</td>\n",
       "      <td>5</td>\n",
       "      <td>3/10/2018 0:00</td>\n",
       "      <td>3/11/2018 3:05</td>\n",
       "    </tr>\n",
       "    <tr>\n",
       "      <th>2</th>\n",
       "      <td>228ce5500dc1d8e020d8d1322874b6f0</td>\n",
       "      <td>f9e4b658b201a9f2ecdecbb34bed034b</td>\n",
       "      <td>5</td>\n",
       "      <td>2/17/2018 0:00</td>\n",
       "      <td>2/18/2018 14:36</td>\n",
       "    </tr>\n",
       "    <tr>\n",
       "      <th>3</th>\n",
       "      <td>e64fb393e7b32834bb789ff8bb30750e</td>\n",
       "      <td>658677c97b385a9be170737859d3511b</td>\n",
       "      <td>5</td>\n",
       "      <td>4/21/2017 0:00</td>\n",
       "      <td>4/21/2017 22:02</td>\n",
       "    </tr>\n",
       "    <tr>\n",
       "      <th>4</th>\n",
       "      <td>f7c4243c7fe1938f181bec41a392bdeb</td>\n",
       "      <td>8e6bfb81e283fa7e4f11123a3fb894f1</td>\n",
       "      <td>5</td>\n",
       "      <td>3/1/2018 0:00</td>\n",
       "      <td>3/2/2018 10:26</td>\n",
       "    </tr>\n",
       "  </tbody>\n",
       "</table>\n",
       "</div>"
      ],
      "text/plain": [
       "                          review_id                          order_id  \\\n",
       "0  7bc2406110b926393aa56f80a40eba40  73fc7af87114b39712e6da79b0a377eb   \n",
       "1  80e641a11e56f04c1ad469d5645fdfde  a548910a1c6147796b98fdf73dbeba33   \n",
       "2  228ce5500dc1d8e020d8d1322874b6f0  f9e4b658b201a9f2ecdecbb34bed034b   \n",
       "3  e64fb393e7b32834bb789ff8bb30750e  658677c97b385a9be170737859d3511b   \n",
       "4  f7c4243c7fe1938f181bec41a392bdeb  8e6bfb81e283fa7e4f11123a3fb894f1   \n",
       "\n",
       "   review_score review_creation_date review_answer_timestamp  \n",
       "0             4       1/18/2018 0:00         1/18/2018 21:46  \n",
       "1             5       3/10/2018 0:00          3/11/2018 3:05  \n",
       "2             5       2/17/2018 0:00         2/18/2018 14:36  \n",
       "3             5       4/21/2017 0:00         4/21/2017 22:02  \n",
       "4             5        3/1/2018 0:00          3/2/2018 10:26  "
      ]
     },
     "execution_count": 15,
     "metadata": {},
     "output_type": "execute_result"
    }
   ],
   "source": [
    "order_Review_Ratings.head()"
   ]
  },
  {
   "cell_type": "code",
   "execution_count": 16,
   "id": "44daa186",
   "metadata": {},
   "outputs": [
    {
     "data": {
      "text/plain": [
       "review_id                  object\n",
       "order_id                   object\n",
       "review_score                int64\n",
       "review_creation_date       object\n",
       "review_answer_timestamp    object\n",
       "dtype: object"
      ]
     },
     "execution_count": 16,
     "metadata": {},
     "output_type": "execute_result"
    }
   ],
   "source": [
    "order_Review_Ratings.dtypes"
   ]
  },
  {
   "cell_type": "code",
   "execution_count": 17,
   "id": "ee50d28e",
   "metadata": {},
   "outputs": [
    {
     "data": {
      "text/html": [
       "<div>\n",
       "<style scoped>\n",
       "    .dataframe tbody tr th:only-of-type {\n",
       "        vertical-align: middle;\n",
       "    }\n",
       "\n",
       "    .dataframe tbody tr th {\n",
       "        vertical-align: top;\n",
       "    }\n",
       "\n",
       "    .dataframe thead th {\n",
       "        text-align: right;\n",
       "    }\n",
       "</style>\n",
       "<table border=\"1\" class=\"dataframe\">\n",
       "  <thead>\n",
       "    <tr style=\"text-align: right;\">\n",
       "      <th></th>\n",
       "      <th>geolocation_zip_code_prefix</th>\n",
       "      <th>geolocation_lat</th>\n",
       "      <th>geolocation_lng</th>\n",
       "      <th>geolocation_city</th>\n",
       "      <th>geolocation_state</th>\n",
       "    </tr>\n",
       "  </thead>\n",
       "  <tbody>\n",
       "    <tr>\n",
       "      <th>0</th>\n",
       "      <td>1037</td>\n",
       "      <td>-23.545621</td>\n",
       "      <td>-46.639292</td>\n",
       "      <td>Akkarampalle</td>\n",
       "      <td>Andhra Pradesh</td>\n",
       "    </tr>\n",
       "    <tr>\n",
       "      <th>1</th>\n",
       "      <td>1046</td>\n",
       "      <td>-23.546081</td>\n",
       "      <td>-46.644820</td>\n",
       "      <td>Akkarampalle</td>\n",
       "      <td>Andhra Pradesh</td>\n",
       "    </tr>\n",
       "    <tr>\n",
       "      <th>2</th>\n",
       "      <td>1041</td>\n",
       "      <td>-23.544392</td>\n",
       "      <td>-46.639499</td>\n",
       "      <td>Akkarampalle</td>\n",
       "      <td>Andhra Pradesh</td>\n",
       "    </tr>\n",
       "    <tr>\n",
       "      <th>3</th>\n",
       "      <td>1035</td>\n",
       "      <td>-23.541578</td>\n",
       "      <td>-46.641607</td>\n",
       "      <td>Akkarampalle</td>\n",
       "      <td>Andhra Pradesh</td>\n",
       "    </tr>\n",
       "    <tr>\n",
       "      <th>4</th>\n",
       "      <td>1012</td>\n",
       "      <td>-23.547762</td>\n",
       "      <td>-46.635361</td>\n",
       "      <td>Akkarampalle</td>\n",
       "      <td>Andhra Pradesh</td>\n",
       "    </tr>\n",
       "  </tbody>\n",
       "</table>\n",
       "</div>"
      ],
      "text/plain": [
       "   geolocation_zip_code_prefix  geolocation_lat  geolocation_lng  \\\n",
       "0                         1037       -23.545621       -46.639292   \n",
       "1                         1046       -23.546081       -46.644820   \n",
       "2                         1041       -23.544392       -46.639499   \n",
       "3                         1035       -23.541578       -46.641607   \n",
       "4                         1012       -23.547762       -46.635361   \n",
       "\n",
       "  geolocation_city geolocation_state  \n",
       "0     Akkarampalle    Andhra Pradesh  \n",
       "1     Akkarampalle    Andhra Pradesh  \n",
       "2     Akkarampalle    Andhra Pradesh  \n",
       "3     Akkarampalle    Andhra Pradesh  \n",
       "4     Akkarampalle    Andhra Pradesh  "
      ]
     },
     "execution_count": 17,
     "metadata": {},
     "output_type": "execute_result"
    }
   ],
   "source": [
    "geo_Location.head()"
   ]
  },
  {
   "cell_type": "code",
   "execution_count": 18,
   "id": "ca8fba82",
   "metadata": {},
   "outputs": [
    {
     "data": {
      "text/plain": [
       "geolocation_zip_code_prefix      int64\n",
       "geolocation_lat                float64\n",
       "geolocation_lng                float64\n",
       "geolocation_city                object\n",
       "geolocation_state               object\n",
       "dtype: object"
      ]
     },
     "execution_count": 18,
     "metadata": {},
     "output_type": "execute_result"
    }
   ],
   "source": [
    "geo_Location.dtypes"
   ]
  },
  {
   "cell_type": "markdown",
   "id": "8b841afc",
   "metadata": {},
   "source": [
    "# EDA"
   ]
  },
  {
   "cell_type": "code",
   "execution_count": 19,
   "id": "e6121be4",
   "metadata": {},
   "outputs": [],
   "source": [
    "dfs = [orders, order_Review_Ratings, order_payments,order_iteams]\n",
    "\n"
   ]
  },
  {
   "cell_type": "code",
   "execution_count": 20,
   "id": "98fcf109",
   "metadata": {},
   "outputs": [],
   "source": [
    "order= reduce(lambda  left,right: pd.merge(left,right,on=['order_id'],\n",
    "                                            how='inner'), dfs)\n"
   ]
  },
  {
   "cell_type": "code",
   "execution_count": 21,
   "id": "ab314d84",
   "metadata": {},
   "outputs": [
    {
     "data": {
      "text/plain": [
       "Index(['order_id', 'customer_id', 'order_status', 'order_purchase_timestamp',\n",
       "       'order_approved_at', 'order_delivered_carrier_date',\n",
       "       'order_delivered_customer_date', 'order_estimated_delivery_date',\n",
       "       'review_id', 'review_score', 'review_creation_date',\n",
       "       'review_answer_timestamp', 'payment_sequential', 'payment_type',\n",
       "       'payment_installments', 'payment_value', 'order_item_id', 'product_id',\n",
       "       'seller_id', 'shipping_limit_date', 'price', 'freight_value'],\n",
       "      dtype='object')"
      ]
     },
     "execution_count": 21,
     "metadata": {},
     "output_type": "execute_result"
    }
   ],
   "source": [
    "order.columns"
   ]
  },
  {
   "cell_type": "code",
   "execution_count": 22,
   "id": "8513d004",
   "metadata": {},
   "outputs": [],
   "source": [
    "orders=pd.merge(left=order,right=products,how=\"inner\",left_on=\"product_id\",right_on=\"product_id\")"
   ]
  },
  {
   "cell_type": "code",
   "execution_count": 23,
   "id": "f12859c7",
   "metadata": {},
   "outputs": [
    {
     "data": {
      "text/html": [
       "<div>\n",
       "<style scoped>\n",
       "    .dataframe tbody tr th:only-of-type {\n",
       "        vertical-align: middle;\n",
       "    }\n",
       "\n",
       "    .dataframe tbody tr th {\n",
       "        vertical-align: top;\n",
       "    }\n",
       "\n",
       "    .dataframe thead th {\n",
       "        text-align: right;\n",
       "    }\n",
       "</style>\n",
       "<table border=\"1\" class=\"dataframe\">\n",
       "  <thead>\n",
       "    <tr style=\"text-align: right;\">\n",
       "      <th></th>\n",
       "      <th>order_id</th>\n",
       "      <th>customer_id</th>\n",
       "      <th>order_status</th>\n",
       "      <th>order_purchase_timestamp</th>\n",
       "      <th>order_approved_at</th>\n",
       "      <th>order_delivered_carrier_date</th>\n",
       "      <th>order_delivered_customer_date</th>\n",
       "      <th>order_estimated_delivery_date</th>\n",
       "      <th>review_id</th>\n",
       "      <th>review_score</th>\n",
       "      <th>...</th>\n",
       "      <th>price</th>\n",
       "      <th>freight_value</th>\n",
       "      <th>product_category_name</th>\n",
       "      <th>product_name_lenght</th>\n",
       "      <th>product_description_lenght</th>\n",
       "      <th>product_photos_qty</th>\n",
       "      <th>product_weight_g</th>\n",
       "      <th>product_length_cm</th>\n",
       "      <th>product_height_cm</th>\n",
       "      <th>product_width_cm</th>\n",
       "    </tr>\n",
       "  </thead>\n",
       "  <tbody>\n",
       "    <tr>\n",
       "      <th>0</th>\n",
       "      <td>e481f51cbdc54678b7cc49136f2d6af7</td>\n",
       "      <td>9ef432eb6251297304e76186b10a928d</td>\n",
       "      <td>delivered</td>\n",
       "      <td>10/2/2017 10:56</td>\n",
       "      <td>10/2/2017 11:07</td>\n",
       "      <td>10/4/2017 19:55</td>\n",
       "      <td>10/10/2017 21:25</td>\n",
       "      <td>10/18/2017 0:00</td>\n",
       "      <td>a54f0611adc9ed256b57ede6b6eb5114</td>\n",
       "      <td>4</td>\n",
       "      <td>...</td>\n",
       "      <td>29.99</td>\n",
       "      <td>8.72</td>\n",
       "      <td>Housewares</td>\n",
       "      <td>40.0</td>\n",
       "      <td>268.0</td>\n",
       "      <td>4.0</td>\n",
       "      <td>500.0</td>\n",
       "      <td>19.0</td>\n",
       "      <td>8.0</td>\n",
       "      <td>13.0</td>\n",
       "    </tr>\n",
       "    <tr>\n",
       "      <th>1</th>\n",
       "      <td>e481f51cbdc54678b7cc49136f2d6af7</td>\n",
       "      <td>9ef432eb6251297304e76186b10a928d</td>\n",
       "      <td>delivered</td>\n",
       "      <td>10/2/2017 10:56</td>\n",
       "      <td>10/2/2017 11:07</td>\n",
       "      <td>10/4/2017 19:55</td>\n",
       "      <td>10/10/2017 21:25</td>\n",
       "      <td>10/18/2017 0:00</td>\n",
       "      <td>a54f0611adc9ed256b57ede6b6eb5114</td>\n",
       "      <td>4</td>\n",
       "      <td>...</td>\n",
       "      <td>29.99</td>\n",
       "      <td>8.72</td>\n",
       "      <td>Housewares</td>\n",
       "      <td>40.0</td>\n",
       "      <td>268.0</td>\n",
       "      <td>4.0</td>\n",
       "      <td>500.0</td>\n",
       "      <td>19.0</td>\n",
       "      <td>8.0</td>\n",
       "      <td>13.0</td>\n",
       "    </tr>\n",
       "    <tr>\n",
       "      <th>2</th>\n",
       "      <td>e481f51cbdc54678b7cc49136f2d6af7</td>\n",
       "      <td>9ef432eb6251297304e76186b10a928d</td>\n",
       "      <td>delivered</td>\n",
       "      <td>10/2/2017 10:56</td>\n",
       "      <td>10/2/2017 11:07</td>\n",
       "      <td>10/4/2017 19:55</td>\n",
       "      <td>10/10/2017 21:25</td>\n",
       "      <td>10/18/2017 0:00</td>\n",
       "      <td>a54f0611adc9ed256b57ede6b6eb5114</td>\n",
       "      <td>4</td>\n",
       "      <td>...</td>\n",
       "      <td>29.99</td>\n",
       "      <td>8.72</td>\n",
       "      <td>Housewares</td>\n",
       "      <td>40.0</td>\n",
       "      <td>268.0</td>\n",
       "      <td>4.0</td>\n",
       "      <td>500.0</td>\n",
       "      <td>19.0</td>\n",
       "      <td>8.0</td>\n",
       "      <td>13.0</td>\n",
       "    </tr>\n",
       "    <tr>\n",
       "      <th>3</th>\n",
       "      <td>128e10d95713541c87cd1a2e48201934</td>\n",
       "      <td>a20e8105f23924cd00833fd87daa0831</td>\n",
       "      <td>delivered</td>\n",
       "      <td>8/15/2017 18:29</td>\n",
       "      <td>8/15/2017 20:05</td>\n",
       "      <td>8/17/2017 15:28</td>\n",
       "      <td>8/18/2017 14:44</td>\n",
       "      <td>8/28/2017 0:00</td>\n",
       "      <td>b46f1e34512b0f4c74a72398b03ca788</td>\n",
       "      <td>4</td>\n",
       "      <td>...</td>\n",
       "      <td>29.99</td>\n",
       "      <td>7.78</td>\n",
       "      <td>Housewares</td>\n",
       "      <td>40.0</td>\n",
       "      <td>268.0</td>\n",
       "      <td>4.0</td>\n",
       "      <td>500.0</td>\n",
       "      <td>19.0</td>\n",
       "      <td>8.0</td>\n",
       "      <td>13.0</td>\n",
       "    </tr>\n",
       "    <tr>\n",
       "      <th>4</th>\n",
       "      <td>0e7e841ddf8f8f2de2bad69267ecfbcf</td>\n",
       "      <td>26c7ac168e1433912a51b924fbd34d34</td>\n",
       "      <td>delivered</td>\n",
       "      <td>8/2/2017 18:24</td>\n",
       "      <td>8/2/2017 18:43</td>\n",
       "      <td>8/4/2017 17:35</td>\n",
       "      <td>8/7/2017 18:30</td>\n",
       "      <td>8/15/2017 0:00</td>\n",
       "      <td>dc90f19c2806f1abba9e72ad3c350073</td>\n",
       "      <td>5</td>\n",
       "      <td>...</td>\n",
       "      <td>29.99</td>\n",
       "      <td>7.78</td>\n",
       "      <td>Housewares</td>\n",
       "      <td>40.0</td>\n",
       "      <td>268.0</td>\n",
       "      <td>4.0</td>\n",
       "      <td>500.0</td>\n",
       "      <td>19.0</td>\n",
       "      <td>8.0</td>\n",
       "      <td>13.0</td>\n",
       "    </tr>\n",
       "  </tbody>\n",
       "</table>\n",
       "<p>5 rows × 30 columns</p>\n",
       "</div>"
      ],
      "text/plain": [
       "                           order_id                       customer_id  \\\n",
       "0  e481f51cbdc54678b7cc49136f2d6af7  9ef432eb6251297304e76186b10a928d   \n",
       "1  e481f51cbdc54678b7cc49136f2d6af7  9ef432eb6251297304e76186b10a928d   \n",
       "2  e481f51cbdc54678b7cc49136f2d6af7  9ef432eb6251297304e76186b10a928d   \n",
       "3  128e10d95713541c87cd1a2e48201934  a20e8105f23924cd00833fd87daa0831   \n",
       "4  0e7e841ddf8f8f2de2bad69267ecfbcf  26c7ac168e1433912a51b924fbd34d34   \n",
       "\n",
       "  order_status order_purchase_timestamp order_approved_at  \\\n",
       "0    delivered          10/2/2017 10:56   10/2/2017 11:07   \n",
       "1    delivered          10/2/2017 10:56   10/2/2017 11:07   \n",
       "2    delivered          10/2/2017 10:56   10/2/2017 11:07   \n",
       "3    delivered          8/15/2017 18:29   8/15/2017 20:05   \n",
       "4    delivered           8/2/2017 18:24    8/2/2017 18:43   \n",
       "\n",
       "  order_delivered_carrier_date order_delivered_customer_date  \\\n",
       "0              10/4/2017 19:55              10/10/2017 21:25   \n",
       "1              10/4/2017 19:55              10/10/2017 21:25   \n",
       "2              10/4/2017 19:55              10/10/2017 21:25   \n",
       "3              8/17/2017 15:28               8/18/2017 14:44   \n",
       "4               8/4/2017 17:35                8/7/2017 18:30   \n",
       "\n",
       "  order_estimated_delivery_date                         review_id  \\\n",
       "0               10/18/2017 0:00  a54f0611adc9ed256b57ede6b6eb5114   \n",
       "1               10/18/2017 0:00  a54f0611adc9ed256b57ede6b6eb5114   \n",
       "2               10/18/2017 0:00  a54f0611adc9ed256b57ede6b6eb5114   \n",
       "3                8/28/2017 0:00  b46f1e34512b0f4c74a72398b03ca788   \n",
       "4                8/15/2017 0:00  dc90f19c2806f1abba9e72ad3c350073   \n",
       "\n",
       "   review_score  ...  price freight_value  product_category_name  \\\n",
       "0             4  ...  29.99          8.72             Housewares   \n",
       "1             4  ...  29.99          8.72             Housewares   \n",
       "2             4  ...  29.99          8.72             Housewares   \n",
       "3             4  ...  29.99          7.78             Housewares   \n",
       "4             5  ...  29.99          7.78             Housewares   \n",
       "\n",
       "  product_name_lenght  product_description_lenght  product_photos_qty  \\\n",
       "0                40.0                       268.0                 4.0   \n",
       "1                40.0                       268.0                 4.0   \n",
       "2                40.0                       268.0                 4.0   \n",
       "3                40.0                       268.0                 4.0   \n",
       "4                40.0                       268.0                 4.0   \n",
       "\n",
       "   product_weight_g product_length_cm product_height_cm product_width_cm  \n",
       "0             500.0              19.0               8.0             13.0  \n",
       "1             500.0              19.0               8.0             13.0  \n",
       "2             500.0              19.0               8.0             13.0  \n",
       "3             500.0              19.0               8.0             13.0  \n",
       "4             500.0              19.0               8.0             13.0  \n",
       "\n",
       "[5 rows x 30 columns]"
      ]
     },
     "execution_count": 23,
     "metadata": {},
     "output_type": "execute_result"
    }
   ],
   "source": [
    "orders.head()\n"
   ]
  },
  {
   "cell_type": "code",
   "execution_count": 24,
   "id": "8d7a1137",
   "metadata": {},
   "outputs": [],
   "source": [
    "orders=pd.merge(left=orders,right=sellers,how=\"inner\",left_on=\"seller_id\",right_on=\"seller_id\")"
   ]
  },
  {
   "cell_type": "code",
   "execution_count": 25,
   "id": "60c47d6f",
   "metadata": {},
   "outputs": [],
   "source": [
    "orders=pd.merge(left=orders,right=customers,how=\"inner\",left_on=\"customer_id\",right_on=\"customer_id\")"
   ]
  },
  {
   "cell_type": "code",
   "execution_count": 26,
   "id": "ce47173b",
   "metadata": {},
   "outputs": [
    {
     "data": {
      "text/plain": [
       "order_id                          object\n",
       "customer_id                       object\n",
       "order_status                      object\n",
       "order_purchase_timestamp          object\n",
       "order_approved_at                 object\n",
       "order_delivered_carrier_date      object\n",
       "order_delivered_customer_date     object\n",
       "order_estimated_delivery_date     object\n",
       "review_id                         object\n",
       "review_score                       int64\n",
       "review_creation_date              object\n",
       "review_answer_timestamp           object\n",
       "payment_sequential                 int64\n",
       "payment_type                      object\n",
       "payment_installments               int64\n",
       "payment_value                    float64\n",
       "order_item_id                      int64\n",
       "product_id                        object\n",
       "seller_id                         object\n",
       "shipping_limit_date               object\n",
       "price                            float64\n",
       "freight_value                    float64\n",
       "product_category_name             object\n",
       "product_name_lenght              float64\n",
       "product_description_lenght       float64\n",
       "product_photos_qty               float64\n",
       "product_weight_g                 float64\n",
       "product_length_cm                float64\n",
       "product_height_cm                float64\n",
       "product_width_cm                 float64\n",
       "seller_zip_code_prefix             int64\n",
       "seller_city                       object\n",
       "seller_state                      object\n",
       "customer_unique_id                object\n",
       "customer_zip_code_prefix           int64\n",
       "customer_city                     object\n",
       "customer_state                    object\n",
       "dtype: object"
      ]
     },
     "execution_count": 26,
     "metadata": {},
     "output_type": "execute_result"
    }
   ],
   "source": [
    "orders.dtypes"
   ]
  },
  {
   "cell_type": "code",
   "execution_count": 27,
   "id": "61339d9e",
   "metadata": {},
   "outputs": [],
   "source": [
    "orders=pd.merge(left=orders,right=geo_Location,how=\"inner\",left_on=\"seller_zip_code_prefix\",right_on=\"geolocation_zip_code_prefix\")"
   ]
  },
  {
   "cell_type": "code",
   "execution_count": 28,
   "id": "2ab202d0",
   "metadata": {},
   "outputs": [
    {
     "data": {
      "text/html": [
       "<div>\n",
       "<style scoped>\n",
       "    .dataframe tbody tr th:only-of-type {\n",
       "        vertical-align: middle;\n",
       "    }\n",
       "\n",
       "    .dataframe tbody tr th {\n",
       "        vertical-align: top;\n",
       "    }\n",
       "\n",
       "    .dataframe thead th {\n",
       "        text-align: right;\n",
       "    }\n",
       "</style>\n",
       "<table border=\"1\" class=\"dataframe\">\n",
       "  <thead>\n",
       "    <tr style=\"text-align: right;\">\n",
       "      <th></th>\n",
       "      <th>order_id</th>\n",
       "      <th>customer_id</th>\n",
       "      <th>order_status</th>\n",
       "      <th>order_purchase_timestamp</th>\n",
       "      <th>order_approved_at</th>\n",
       "      <th>order_delivered_carrier_date</th>\n",
       "      <th>order_delivered_customer_date</th>\n",
       "      <th>order_estimated_delivery_date</th>\n",
       "      <th>review_id</th>\n",
       "      <th>review_score</th>\n",
       "      <th>...</th>\n",
       "      <th>seller_state</th>\n",
       "      <th>customer_unique_id</th>\n",
       "      <th>customer_zip_code_prefix</th>\n",
       "      <th>customer_city</th>\n",
       "      <th>customer_state</th>\n",
       "      <th>geolocation_zip_code_prefix</th>\n",
       "      <th>geolocation_lat</th>\n",
       "      <th>geolocation_lng</th>\n",
       "      <th>geolocation_city</th>\n",
       "      <th>geolocation_state</th>\n",
       "    </tr>\n",
       "  </thead>\n",
       "  <tbody>\n",
       "    <tr>\n",
       "      <th>0</th>\n",
       "      <td>e481f51cbdc54678b7cc49136f2d6af7</td>\n",
       "      <td>9ef432eb6251297304e76186b10a928d</td>\n",
       "      <td>delivered</td>\n",
       "      <td>10/2/2017 10:56</td>\n",
       "      <td>10/2/2017 11:07</td>\n",
       "      <td>10/4/2017 19:55</td>\n",
       "      <td>10/10/2017 21:25</td>\n",
       "      <td>10/18/2017 0:00</td>\n",
       "      <td>a54f0611adc9ed256b57ede6b6eb5114</td>\n",
       "      <td>4</td>\n",
       "      <td>...</td>\n",
       "      <td>Chhattisgarh</td>\n",
       "      <td>7c396fd4830fd04220f754e42b4e5bff</td>\n",
       "      <td>3149</td>\n",
       "      <td>Akkarampalle</td>\n",
       "      <td>Andhra Pradesh</td>\n",
       "      <td>9350</td>\n",
       "      <td>-23.680114</td>\n",
       "      <td>-46.452454</td>\n",
       "      <td>Chhuikhadan</td>\n",
       "      <td>Chhattisgarh</td>\n",
       "    </tr>\n",
       "    <tr>\n",
       "      <th>1</th>\n",
       "      <td>e481f51cbdc54678b7cc49136f2d6af7</td>\n",
       "      <td>9ef432eb6251297304e76186b10a928d</td>\n",
       "      <td>delivered</td>\n",
       "      <td>10/2/2017 10:56</td>\n",
       "      <td>10/2/2017 11:07</td>\n",
       "      <td>10/4/2017 19:55</td>\n",
       "      <td>10/10/2017 21:25</td>\n",
       "      <td>10/18/2017 0:00</td>\n",
       "      <td>a54f0611adc9ed256b57ede6b6eb5114</td>\n",
       "      <td>4</td>\n",
       "      <td>...</td>\n",
       "      <td>Chhattisgarh</td>\n",
       "      <td>7c396fd4830fd04220f754e42b4e5bff</td>\n",
       "      <td>3149</td>\n",
       "      <td>Akkarampalle</td>\n",
       "      <td>Andhra Pradesh</td>\n",
       "      <td>9350</td>\n",
       "      <td>-23.680114</td>\n",
       "      <td>-46.452454</td>\n",
       "      <td>Chhuikhadan</td>\n",
       "      <td>Chhattisgarh</td>\n",
       "    </tr>\n",
       "    <tr>\n",
       "      <th>2</th>\n",
       "      <td>e481f51cbdc54678b7cc49136f2d6af7</td>\n",
       "      <td>9ef432eb6251297304e76186b10a928d</td>\n",
       "      <td>delivered</td>\n",
       "      <td>10/2/2017 10:56</td>\n",
       "      <td>10/2/2017 11:07</td>\n",
       "      <td>10/4/2017 19:55</td>\n",
       "      <td>10/10/2017 21:25</td>\n",
       "      <td>10/18/2017 0:00</td>\n",
       "      <td>a54f0611adc9ed256b57ede6b6eb5114</td>\n",
       "      <td>4</td>\n",
       "      <td>...</td>\n",
       "      <td>Chhattisgarh</td>\n",
       "      <td>7c396fd4830fd04220f754e42b4e5bff</td>\n",
       "      <td>3149</td>\n",
       "      <td>Akkarampalle</td>\n",
       "      <td>Andhra Pradesh</td>\n",
       "      <td>9350</td>\n",
       "      <td>-23.680114</td>\n",
       "      <td>-46.452454</td>\n",
       "      <td>Chhuikhadan</td>\n",
       "      <td>Chhattisgarh</td>\n",
       "    </tr>\n",
       "    <tr>\n",
       "      <th>3</th>\n",
       "      <td>128e10d95713541c87cd1a2e48201934</td>\n",
       "      <td>a20e8105f23924cd00833fd87daa0831</td>\n",
       "      <td>delivered</td>\n",
       "      <td>8/15/2017 18:29</td>\n",
       "      <td>8/15/2017 20:05</td>\n",
       "      <td>8/17/2017 15:28</td>\n",
       "      <td>8/18/2017 14:44</td>\n",
       "      <td>8/28/2017 0:00</td>\n",
       "      <td>b46f1e34512b0f4c74a72398b03ca788</td>\n",
       "      <td>4</td>\n",
       "      <td>...</td>\n",
       "      <td>Chhattisgarh</td>\n",
       "      <td>3a51803cc0d012c3b5dc8b7528cb05f7</td>\n",
       "      <td>3366</td>\n",
       "      <td>Akkarampalle</td>\n",
       "      <td>Andhra Pradesh</td>\n",
       "      <td>9350</td>\n",
       "      <td>-23.680114</td>\n",
       "      <td>-46.452454</td>\n",
       "      <td>Chhuikhadan</td>\n",
       "      <td>Chhattisgarh</td>\n",
       "    </tr>\n",
       "    <tr>\n",
       "      <th>4</th>\n",
       "      <td>0e7e841ddf8f8f2de2bad69267ecfbcf</td>\n",
       "      <td>26c7ac168e1433912a51b924fbd34d34</td>\n",
       "      <td>delivered</td>\n",
       "      <td>8/2/2017 18:24</td>\n",
       "      <td>8/2/2017 18:43</td>\n",
       "      <td>8/4/2017 17:35</td>\n",
       "      <td>8/7/2017 18:30</td>\n",
       "      <td>8/15/2017 0:00</td>\n",
       "      <td>dc90f19c2806f1abba9e72ad3c350073</td>\n",
       "      <td>5</td>\n",
       "      <td>...</td>\n",
       "      <td>Chhattisgarh</td>\n",
       "      <td>ef0996a1a279c26e7ecbd737be23d235</td>\n",
       "      <td>2290</td>\n",
       "      <td>Akkarampalle</td>\n",
       "      <td>Andhra Pradesh</td>\n",
       "      <td>9350</td>\n",
       "      <td>-23.680114</td>\n",
       "      <td>-46.452454</td>\n",
       "      <td>Chhuikhadan</td>\n",
       "      <td>Chhattisgarh</td>\n",
       "    </tr>\n",
       "  </tbody>\n",
       "</table>\n",
       "<p>5 rows × 42 columns</p>\n",
       "</div>"
      ],
      "text/plain": [
       "                           order_id                       customer_id  \\\n",
       "0  e481f51cbdc54678b7cc49136f2d6af7  9ef432eb6251297304e76186b10a928d   \n",
       "1  e481f51cbdc54678b7cc49136f2d6af7  9ef432eb6251297304e76186b10a928d   \n",
       "2  e481f51cbdc54678b7cc49136f2d6af7  9ef432eb6251297304e76186b10a928d   \n",
       "3  128e10d95713541c87cd1a2e48201934  a20e8105f23924cd00833fd87daa0831   \n",
       "4  0e7e841ddf8f8f2de2bad69267ecfbcf  26c7ac168e1433912a51b924fbd34d34   \n",
       "\n",
       "  order_status order_purchase_timestamp order_approved_at  \\\n",
       "0    delivered          10/2/2017 10:56   10/2/2017 11:07   \n",
       "1    delivered          10/2/2017 10:56   10/2/2017 11:07   \n",
       "2    delivered          10/2/2017 10:56   10/2/2017 11:07   \n",
       "3    delivered          8/15/2017 18:29   8/15/2017 20:05   \n",
       "4    delivered           8/2/2017 18:24    8/2/2017 18:43   \n",
       "\n",
       "  order_delivered_carrier_date order_delivered_customer_date  \\\n",
       "0              10/4/2017 19:55              10/10/2017 21:25   \n",
       "1              10/4/2017 19:55              10/10/2017 21:25   \n",
       "2              10/4/2017 19:55              10/10/2017 21:25   \n",
       "3              8/17/2017 15:28               8/18/2017 14:44   \n",
       "4               8/4/2017 17:35                8/7/2017 18:30   \n",
       "\n",
       "  order_estimated_delivery_date                         review_id  \\\n",
       "0               10/18/2017 0:00  a54f0611adc9ed256b57ede6b6eb5114   \n",
       "1               10/18/2017 0:00  a54f0611adc9ed256b57ede6b6eb5114   \n",
       "2               10/18/2017 0:00  a54f0611adc9ed256b57ede6b6eb5114   \n",
       "3                8/28/2017 0:00  b46f1e34512b0f4c74a72398b03ca788   \n",
       "4                8/15/2017 0:00  dc90f19c2806f1abba9e72ad3c350073   \n",
       "\n",
       "   review_score  ...  seller_state                customer_unique_id  \\\n",
       "0             4  ...  Chhattisgarh  7c396fd4830fd04220f754e42b4e5bff   \n",
       "1             4  ...  Chhattisgarh  7c396fd4830fd04220f754e42b4e5bff   \n",
       "2             4  ...  Chhattisgarh  7c396fd4830fd04220f754e42b4e5bff   \n",
       "3             4  ...  Chhattisgarh  3a51803cc0d012c3b5dc8b7528cb05f7   \n",
       "4             5  ...  Chhattisgarh  ef0996a1a279c26e7ecbd737be23d235   \n",
       "\n",
       "   customer_zip_code_prefix customer_city  customer_state  \\\n",
       "0                      3149  Akkarampalle  Andhra Pradesh   \n",
       "1                      3149  Akkarampalle  Andhra Pradesh   \n",
       "2                      3149  Akkarampalle  Andhra Pradesh   \n",
       "3                      3366  Akkarampalle  Andhra Pradesh   \n",
       "4                      2290  Akkarampalle  Andhra Pradesh   \n",
       "\n",
       "   geolocation_zip_code_prefix  geolocation_lat geolocation_lng  \\\n",
       "0                         9350       -23.680114      -46.452454   \n",
       "1                         9350       -23.680114      -46.452454   \n",
       "2                         9350       -23.680114      -46.452454   \n",
       "3                         9350       -23.680114      -46.452454   \n",
       "4                         9350       -23.680114      -46.452454   \n",
       "\n",
       "  geolocation_city geolocation_state  \n",
       "0      Chhuikhadan      Chhattisgarh  \n",
       "1      Chhuikhadan      Chhattisgarh  \n",
       "2      Chhuikhadan      Chhattisgarh  \n",
       "3      Chhuikhadan      Chhattisgarh  \n",
       "4      Chhuikhadan      Chhattisgarh  \n",
       "\n",
       "[5 rows x 42 columns]"
      ]
     },
     "execution_count": 28,
     "metadata": {},
     "output_type": "execute_result"
    }
   ],
   "source": [
    "orders.head()"
   ]
  },
  {
   "cell_type": "code",
   "execution_count": 29,
   "id": "5ecf6b3a",
   "metadata": {},
   "outputs": [
    {
     "data": {
      "text/plain": [
       "42"
      ]
     },
     "execution_count": 29,
     "metadata": {},
     "output_type": "execute_result"
    }
   ],
   "source": [
    "orders.dtypes.count()"
   ]
  },
  {
   "cell_type": "code",
   "execution_count": 30,
   "id": "47457b16",
   "metadata": {},
   "outputs": [],
   "source": [
    "# lets convert all the date formats \n",
    "import pandas as pd\n",
    "\n",
    "# Assuming the dataframe is stored in a variable named 'df'\n",
    "date_columns = ['order_purchase_timestamp', 'order_approved_at', 'order_delivered_carrier_date',\n",
    "                'order_delivered_customer_date', 'order_estimated_delivery_date',\n",
    "                'review_creation_date', 'review_answer_timestamp', 'shipping_limit_date']\n",
    "\n",
    "for column in date_columns:\n",
    "    orders[column] = pd.to_datetime(orders[column])\n"
   ]
  },
  {
   "cell_type": "code",
   "execution_count": 31,
   "id": "1cd085d2",
   "metadata": {},
   "outputs": [
    {
     "data": {
      "text/plain": [
       "order_id                                 object\n",
       "customer_id                              object\n",
       "order_status                             object\n",
       "order_purchase_timestamp         datetime64[ns]\n",
       "order_approved_at                datetime64[ns]\n",
       "order_delivered_carrier_date     datetime64[ns]\n",
       "order_delivered_customer_date    datetime64[ns]\n",
       "order_estimated_delivery_date    datetime64[ns]\n",
       "review_id                                object\n",
       "review_score                              int64\n",
       "review_creation_date             datetime64[ns]\n",
       "review_answer_timestamp          datetime64[ns]\n",
       "payment_sequential                        int64\n",
       "payment_type                             object\n",
       "payment_installments                      int64\n",
       "payment_value                           float64\n",
       "order_item_id                             int64\n",
       "product_id                               object\n",
       "seller_id                                object\n",
       "shipping_limit_date              datetime64[ns]\n",
       "price                                   float64\n",
       "freight_value                           float64\n",
       "product_category_name                    object\n",
       "product_name_lenght                     float64\n",
       "product_description_lenght              float64\n",
       "product_photos_qty                      float64\n",
       "product_weight_g                        float64\n",
       "product_length_cm                       float64\n",
       "product_height_cm                       float64\n",
       "product_width_cm                        float64\n",
       "seller_zip_code_prefix                    int64\n",
       "seller_city                              object\n",
       "seller_state                             object\n",
       "customer_unique_id                       object\n",
       "customer_zip_code_prefix                  int64\n",
       "customer_city                            object\n",
       "customer_state                           object\n",
       "geolocation_zip_code_prefix               int64\n",
       "geolocation_lat                         float64\n",
       "geolocation_lng                         float64\n",
       "geolocation_city                         object\n",
       "geolocation_state                        object\n",
       "dtype: object"
      ]
     },
     "execution_count": 31,
     "metadata": {},
     "output_type": "execute_result"
    }
   ],
   "source": [
    "orders.dtypes"
   ]
  },
  {
   "cell_type": "code",
   "execution_count": 32,
   "id": "0f126a9c",
   "metadata": {},
   "outputs": [
    {
     "data": {
      "text/plain": [
       "order_id                            0\n",
       "customer_id                         0\n",
       "order_status                        0\n",
       "order_purchase_timestamp            0\n",
       "order_approved_at                  15\n",
       "order_delivered_carrier_date     1250\n",
       "order_delivered_customer_date    2584\n",
       "order_estimated_delivery_date       0\n",
       "review_id                           0\n",
       "review_score                        0\n",
       "review_creation_date                0\n",
       "review_answer_timestamp             0\n",
       "payment_sequential                  0\n",
       "payment_type                        0\n",
       "payment_installments                0\n",
       "payment_value                       0\n",
       "order_item_id                       0\n",
       "product_id                          0\n",
       "seller_id                           0\n",
       "shipping_limit_date                 0\n",
       "price                               0\n",
       "freight_value                       0\n",
       "product_category_name            1733\n",
       "product_name_lenght              1708\n",
       "product_description_lenght       1708\n",
       "product_photos_qty               1708\n",
       "product_weight_g                   20\n",
       "product_length_cm                  20\n",
       "product_height_cm                  20\n",
       "product_width_cm                   20\n",
       "seller_zip_code_prefix              0\n",
       "seller_city                      1651\n",
       "seller_state                     1651\n",
       "customer_unique_id                  0\n",
       "customer_zip_code_prefix            0\n",
       "customer_city                       0\n",
       "customer_state                      0\n",
       "geolocation_zip_code_prefix         0\n",
       "geolocation_lat                     0\n",
       "geolocation_lng                     0\n",
       "geolocation_city                    0\n",
       "geolocation_state                   0\n",
       "dtype: int64"
      ]
     },
     "execution_count": 32,
     "metadata": {},
     "output_type": "execute_result"
    }
   ],
   "source": [
    "orders.isnull().sum()"
   ]
  },
  {
   "cell_type": "code",
   "execution_count": 33,
   "id": "d7ee6934",
   "metadata": {},
   "outputs": [
    {
     "name": "stdout",
     "output_type": "stream",
     "text": [
      "Total Quantity:  118050\n"
     ]
    }
   ],
   "source": [
    "# Total Quantity\n",
    "total_quantity = orders['product_id'].count()\n",
    "print('Total Quantity: ', total_quantity)"
   ]
  },
  {
   "cell_type": "code",
   "execution_count": 34,
   "id": "1e0812a5",
   "metadata": {},
   "outputs": [],
   "source": [
    "orders['revenue'] = orders['price'] * orders['payment_installments']\n"
   ]
  },
  {
   "cell_type": "code",
   "execution_count": 35,
   "id": "8cedf637",
   "metadata": {},
   "outputs": [
    {
     "name": "stdout",
     "output_type": "stream",
     "text": [
      "Total Revenue:  14248072.290000001\n"
     ]
    }
   ],
   "source": [
    "# Total Revenue\n",
    "total_revenue = orders['price'].sum()\n",
    "print('Total Revenue: ', total_revenue)"
   ]
  },
  {
   "cell_type": "code",
   "execution_count": 36,
   "id": "1ddcb865",
   "metadata": {},
   "outputs": [
    {
     "data": {
      "text/plain": [
       "32889"
      ]
     },
     "execution_count": 36,
     "metadata": {},
     "output_type": "execute_result"
    }
   ],
   "source": [
    "# Total Products\n",
    "total_products = orders['product_id'].nunique()\n",
    "total_products"
   ]
  },
  {
   "cell_type": "code",
   "execution_count": 37,
   "id": "4b25046f",
   "metadata": {},
   "outputs": [
    {
     "data": {
      "text/plain": [
       "71"
      ]
     },
     "execution_count": 37,
     "metadata": {},
     "output_type": "execute_result"
    }
   ],
   "source": [
    "# Total Categories\n",
    "total_categories = orders['product_category_name'].nunique()\n",
    "total_categories"
   ]
  },
  {
   "cell_type": "code",
   "execution_count": 38,
   "id": "37d5ac73",
   "metadata": {},
   "outputs": [
    {
     "data": {
      "text/plain": [
       "3088"
      ]
     },
     "execution_count": 38,
     "metadata": {},
     "output_type": "execute_result"
    }
   ],
   "source": [
    "# Total Sellers\n",
    "total_sellers = orders['seller_id'].nunique()\n",
    "total_sellers"
   ]
  },
  {
   "cell_type": "code",
   "execution_count": 39,
   "id": "95145bdd",
   "metadata": {},
   "outputs": [
    {
     "data": {
      "text/plain": [
       "534"
      ]
     },
     "execution_count": 39,
     "metadata": {},
     "output_type": "execute_result"
    }
   ],
   "source": [
    "# Total Locations\n",
    "total_locations = orders.groupby(['seller_city', 'seller_state']).size().count()\n",
    "total_locations"
   ]
  },
  {
   "cell_type": "code",
   "execution_count": 40,
   "id": "4c91c481",
   "metadata": {},
   "outputs": [
    {
     "data": {
      "text/plain": [
       "95216"
      ]
     },
     "execution_count": 40,
     "metadata": {},
     "output_type": "execute_result"
    }
   ],
   "source": [
    "# Total Channels\n",
    "total_channels = orders['customer_unique_id'].nunique()\n",
    "total_channels"
   ]
  },
  {
   "cell_type": "code",
   "execution_count": 41,
   "id": "becef050",
   "metadata": {},
   "outputs": [
    {
     "data": {
      "text/plain": [
       "4"
      ]
     },
     "execution_count": 41,
     "metadata": {},
     "output_type": "execute_result"
    }
   ],
   "source": [
    "# Total Payment Methods\n",
    "total_payment_methods = orders['payment_type'].nunique()\n",
    "total_payment_methods\n"
   ]
  },
  {
   "cell_type": "code",
   "execution_count": 42,
   "id": "2c04b06c",
   "metadata": {},
   "outputs": [
    {
     "data": {
      "text/plain": [
       "credit_card    87054\n",
       "UPI            22973\n",
       "voucher         6327\n",
       "debit_card      1696\n",
       "Name: payment_type, dtype: int64"
      ]
     },
     "execution_count": 42,
     "metadata": {},
     "output_type": "execute_result"
    }
   ],
   "source": [
    "orders['payment_type'].value_counts()\n"
   ]
  },
  {
   "cell_type": "markdown",
   "id": "e6bc23cb",
   "metadata": {},
   "source": [
    "# B.Understanding how many new customers acquired every month"
   ]
  },
  {
   "cell_type": "code",
   "execution_count": 43,
   "id": "ce933f54",
   "metadata": {},
   "outputs": [],
   "source": [
    "orders['month'] = orders['order_purchase_timestamp'].dt.month\n"
   ]
  },
  {
   "cell_type": "code",
   "execution_count": 44,
   "id": "121fac47",
   "metadata": {},
   "outputs": [
    {
     "data": {
      "text/plain": [
       "<AxesSubplot:xlabel='month'>"
      ]
     },
     "execution_count": 44,
     "metadata": {},
     "output_type": "execute_result"
    },
    {
     "data": {
      "image/png": "[encoded data removed]",
      "text/plain": [
       "<Figure size 640x480 with 1 Axes>"
      ]
     },
     "metadata": {},
     "output_type": "display_data"
    }
   ],
   "source": [
    "new_cust=orders.groupby('month')['customer_id'].nunique()\n",
    "new_cust.plot(kind='bar')"
   ]
  },
  {
   "cell_type": "markdown",
   "id": "8b77c4ea",
   "metadata": {},
   "source": [
    "# c. Understand the retention of customers on month on month basis\n"
   ]
  },
  {
   "cell_type": "code",
   "execution_count": 45,
   "id": "6c230a12",
   "metadata": {
    "scrolled": true
   },
   "outputs": [
    {
     "data": {
      "text/plain": [
       "Index(['order_id', 'customer_id', 'order_status', 'order_purchase_timestamp',\n",
       "       'order_approved_at', 'order_delivered_carrier_date',\n",
       "       'order_delivered_customer_date', 'order_estimated_delivery_date',\n",
       "       'review_id', 'review_score', 'review_creation_date',\n",
       "       'review_answer_timestamp', 'payment_sequential', 'payment_type',\n",
       "       'payment_installments', 'payment_value', 'order_item_id', 'product_id',\n",
       "       'seller_id', 'shipping_limit_date', 'price', 'freight_value',\n",
       "       'product_category_name', 'product_name_lenght',\n",
       "       'product_description_lenght', 'product_photos_qty', 'product_weight_g',\n",
       "       'product_length_cm', 'product_height_cm', 'product_width_cm',\n",
       "       'seller_zip_code_prefix', 'seller_city', 'seller_state',\n",
       "       'customer_unique_id', 'customer_zip_code_prefix', 'customer_city',\n",
       "       'customer_state', 'geolocation_zip_code_prefix', 'geolocation_lat',\n",
       "       'geolocation_lng', 'geolocation_city', 'geolocation_state', 'revenue',\n",
       "       'month'],\n",
       "      dtype='object')"
      ]
     },
     "execution_count": 45,
     "metadata": {},
     "output_type": "execute_result"
    }
   ],
   "source": [
    "orders.columns"
   ]
  },
  {
   "cell_type": "code",
   "execution_count": 46,
   "id": "d3c3c01c",
   "metadata": {},
   "outputs": [],
   "source": [
    "orders['order_purchase_timestamp'] = orders['order_purchase_timestamp'].astype(str)\n",
    "\n",
    "# create a column with the month of each order\n",
    "orders['month'] = orders['order_purchase_timestamp'].apply(lambda x: x.split('-')[1])\n",
    "\n",
    "# group the data by customer_id and month and count the number of orders per customer per month\n",
    "grouped = orders.groupby(['customer_id', 'month'], as_index=False).count()[['customer_id', 'month', 'order_id']]\n",
    "\n",
    "# pivot the data to create a table with customer_id as rows and months as columns, and the number of orders as values\n",
    "pivoted = grouped.pivot(index='customer_id', columns='month', values='order_id')\n",
    "\n",
    "# replace missing values with 0\n",
    "pivoted = pivoted.fillna(0)\n",
    "\n",
    "# calculate the retention rate for each month\n",
    "retention_rates = pivoted.divide(pivoted.sum(axis=1), axis=0).reset_index()\n",
    "\n",
    "# display the retention rates\n"
   ]
  },
  {
   "cell_type": "code",
   "execution_count": 47,
   "id": "da78e602",
   "metadata": {},
   "outputs": [
    {
     "data": {
      "text/html": [
       "<div>\n",
       "<style scoped>\n",
       "    .dataframe tbody tr th:only-of-type {\n",
       "        vertical-align: middle;\n",
       "    }\n",
       "\n",
       "    .dataframe tbody tr th {\n",
       "        vertical-align: top;\n",
       "    }\n",
       "\n",
       "    .dataframe thead th {\n",
       "        text-align: right;\n",
       "    }\n",
       "</style>\n",
       "<table border=\"1\" class=\"dataframe\">\n",
       "  <thead>\n",
       "    <tr style=\"text-align: right;\">\n",
       "      <th>month</th>\n",
       "      <th>customer_id</th>\n",
       "      <th>01</th>\n",
       "      <th>02</th>\n",
       "      <th>03</th>\n",
       "      <th>04</th>\n",
       "      <th>05</th>\n",
       "      <th>06</th>\n",
       "      <th>07</th>\n",
       "      <th>08</th>\n",
       "      <th>09</th>\n",
       "      <th>10</th>\n",
       "      <th>11</th>\n",
       "      <th>12</th>\n",
       "    </tr>\n",
       "  </thead>\n",
       "  <tbody>\n",
       "    <tr>\n",
       "      <th>0</th>\n",
       "      <td>00012a2ce6f8dcda20d059ce98491703</td>\n",
       "      <td>0.0</td>\n",
       "      <td>0.0</td>\n",
       "      <td>0.0</td>\n",
       "      <td>0.0</td>\n",
       "      <td>0.0</td>\n",
       "      <td>0.0</td>\n",
       "      <td>0.0</td>\n",
       "      <td>0.0</td>\n",
       "      <td>0.0</td>\n",
       "      <td>0.0</td>\n",
       "      <td>1.0</td>\n",
       "      <td>0.0</td>\n",
       "    </tr>\n",
       "    <tr>\n",
       "      <th>1</th>\n",
       "      <td>000161a058600d5901f007fab4c27140</td>\n",
       "      <td>0.0</td>\n",
       "      <td>0.0</td>\n",
       "      <td>0.0</td>\n",
       "      <td>0.0</td>\n",
       "      <td>0.0</td>\n",
       "      <td>0.0</td>\n",
       "      <td>1.0</td>\n",
       "      <td>0.0</td>\n",
       "      <td>0.0</td>\n",
       "      <td>0.0</td>\n",
       "      <td>0.0</td>\n",
       "      <td>0.0</td>\n",
       "    </tr>\n",
       "    <tr>\n",
       "      <th>2</th>\n",
       "      <td>0001fd6190edaaf884bcaf3d49edf079</td>\n",
       "      <td>0.0</td>\n",
       "      <td>1.0</td>\n",
       "      <td>0.0</td>\n",
       "      <td>0.0</td>\n",
       "      <td>0.0</td>\n",
       "      <td>0.0</td>\n",
       "      <td>0.0</td>\n",
       "      <td>0.0</td>\n",
       "      <td>0.0</td>\n",
       "      <td>0.0</td>\n",
       "      <td>0.0</td>\n",
       "      <td>0.0</td>\n",
       "    </tr>\n",
       "    <tr>\n",
       "      <th>3</th>\n",
       "      <td>0002414f95344307404f0ace7a26f1d5</td>\n",
       "      <td>0.0</td>\n",
       "      <td>0.0</td>\n",
       "      <td>0.0</td>\n",
       "      <td>0.0</td>\n",
       "      <td>0.0</td>\n",
       "      <td>0.0</td>\n",
       "      <td>0.0</td>\n",
       "      <td>1.0</td>\n",
       "      <td>0.0</td>\n",
       "      <td>0.0</td>\n",
       "      <td>0.0</td>\n",
       "      <td>0.0</td>\n",
       "    </tr>\n",
       "    <tr>\n",
       "      <th>4</th>\n",
       "      <td>000379cdec625522490c315e70c7a9fb</td>\n",
       "      <td>0.0</td>\n",
       "      <td>0.0</td>\n",
       "      <td>0.0</td>\n",
       "      <td>1.0</td>\n",
       "      <td>0.0</td>\n",
       "      <td>0.0</td>\n",
       "      <td>0.0</td>\n",
       "      <td>0.0</td>\n",
       "      <td>0.0</td>\n",
       "      <td>0.0</td>\n",
       "      <td>0.0</td>\n",
       "      <td>0.0</td>\n",
       "    </tr>\n",
       "    <tr>\n",
       "      <th>...</th>\n",
       "      <td>...</td>\n",
       "      <td>...</td>\n",
       "      <td>...</td>\n",
       "      <td>...</td>\n",
       "      <td>...</td>\n",
       "      <td>...</td>\n",
       "      <td>...</td>\n",
       "      <td>...</td>\n",
       "      <td>...</td>\n",
       "      <td>...</td>\n",
       "      <td>...</td>\n",
       "      <td>...</td>\n",
       "      <td>...</td>\n",
       "    </tr>\n",
       "    <tr>\n",
       "      <th>98444</th>\n",
       "      <td>fffcb937e9dd47a13f05ecb8290f4d3e</td>\n",
       "      <td>0.0</td>\n",
       "      <td>0.0</td>\n",
       "      <td>1.0</td>\n",
       "      <td>0.0</td>\n",
       "      <td>0.0</td>\n",
       "      <td>0.0</td>\n",
       "      <td>0.0</td>\n",
       "      <td>0.0</td>\n",
       "      <td>0.0</td>\n",
       "      <td>0.0</td>\n",
       "      <td>0.0</td>\n",
       "      <td>0.0</td>\n",
       "    </tr>\n",
       "    <tr>\n",
       "      <th>98445</th>\n",
       "      <td>fffecc9f79fd8c764f843e9951b11341</td>\n",
       "      <td>0.0</td>\n",
       "      <td>0.0</td>\n",
       "      <td>1.0</td>\n",
       "      <td>0.0</td>\n",
       "      <td>0.0</td>\n",
       "      <td>0.0</td>\n",
       "      <td>0.0</td>\n",
       "      <td>0.0</td>\n",
       "      <td>0.0</td>\n",
       "      <td>0.0</td>\n",
       "      <td>0.0</td>\n",
       "      <td>0.0</td>\n",
       "    </tr>\n",
       "    <tr>\n",
       "      <th>98446</th>\n",
       "      <td>fffeda5b6d849fbd39689bb92087f431</td>\n",
       "      <td>0.0</td>\n",
       "      <td>0.0</td>\n",
       "      <td>0.0</td>\n",
       "      <td>0.0</td>\n",
       "      <td>1.0</td>\n",
       "      <td>0.0</td>\n",
       "      <td>0.0</td>\n",
       "      <td>0.0</td>\n",
       "      <td>0.0</td>\n",
       "      <td>0.0</td>\n",
       "      <td>0.0</td>\n",
       "      <td>0.0</td>\n",
       "    </tr>\n",
       "    <tr>\n",
       "      <th>98447</th>\n",
       "      <td>ffff42319e9b2d713724ae527742af25</td>\n",
       "      <td>0.0</td>\n",
       "      <td>0.0</td>\n",
       "      <td>0.0</td>\n",
       "      <td>0.0</td>\n",
       "      <td>0.0</td>\n",
       "      <td>1.0</td>\n",
       "      <td>0.0</td>\n",
       "      <td>0.0</td>\n",
       "      <td>0.0</td>\n",
       "      <td>0.0</td>\n",
       "      <td>0.0</td>\n",
       "      <td>0.0</td>\n",
       "    </tr>\n",
       "    <tr>\n",
       "      <th>98448</th>\n",
       "      <td>ffffa3172527f765de70084a7e53aae8</td>\n",
       "      <td>0.0</td>\n",
       "      <td>0.0</td>\n",
       "      <td>0.0</td>\n",
       "      <td>0.0</td>\n",
       "      <td>0.0</td>\n",
       "      <td>0.0</td>\n",
       "      <td>0.0</td>\n",
       "      <td>0.0</td>\n",
       "      <td>1.0</td>\n",
       "      <td>0.0</td>\n",
       "      <td>0.0</td>\n",
       "      <td>0.0</td>\n",
       "    </tr>\n",
       "  </tbody>\n",
       "</table>\n",
       "<p>98449 rows × 13 columns</p>\n",
       "</div>"
      ],
      "text/plain": [
       "month                       customer_id   01   02   03   04   05   06   07  \\\n",
       "0      00012a2ce6f8dcda20d059ce98491703  0.0  0.0  0.0  0.0  0.0  0.0  0.0   \n",
       "1      000161a058600d5901f007fab4c27140  0.0  0.0  0.0  0.0  0.0  0.0  1.0   \n",
       "2      0001fd6190edaaf884bcaf3d49edf079  0.0  1.0  0.0  0.0  0.0  0.0  0.0   \n",
       "3      0002414f95344307404f0ace7a26f1d5  0.0  0.0  0.0  0.0  0.0  0.0  0.0   \n",
       "4      000379cdec625522490c315e70c7a9fb  0.0  0.0  0.0  1.0  0.0  0.0  0.0   \n",
       "...                                 ...  ...  ...  ...  ...  ...  ...  ...   \n",
       "98444  fffcb937e9dd47a13f05ecb8290f4d3e  0.0  0.0  1.0  0.0  0.0  0.0  0.0   \n",
       "98445  fffecc9f79fd8c764f843e9951b11341  0.0  0.0  1.0  0.0  0.0  0.0  0.0   \n",
       "98446  fffeda5b6d849fbd39689bb92087f431  0.0  0.0  0.0  0.0  1.0  0.0  0.0   \n",
       "98447  ffff42319e9b2d713724ae527742af25  0.0  0.0  0.0  0.0  0.0  1.0  0.0   \n",
       "98448  ffffa3172527f765de70084a7e53aae8  0.0  0.0  0.0  0.0  0.0  0.0  0.0   \n",
       "\n",
       "month   08   09   10   11   12  \n",
       "0      0.0  0.0  0.0  1.0  0.0  \n",
       "1      0.0  0.0  0.0  0.0  0.0  \n",
       "2      0.0  0.0  0.0  0.0  0.0  \n",
       "3      1.0  0.0  0.0  0.0  0.0  \n",
       "4      0.0  0.0  0.0  0.0  0.0  \n",
       "...    ...  ...  ...  ...  ...  \n",
       "98444  0.0  0.0  0.0  0.0  0.0  \n",
       "98445  0.0  0.0  0.0  0.0  0.0  \n",
       "98446  0.0  0.0  0.0  0.0  0.0  \n",
       "98447  0.0  0.0  0.0  0.0  0.0  \n",
       "98448  0.0  1.0  0.0  0.0  0.0  \n",
       "\n",
       "[98449 rows x 13 columns]"
      ]
     },
     "execution_count": 47,
     "metadata": {},
     "output_type": "execute_result"
    }
   ],
   "source": [
    "retention_rates"
   ]
  },
  {
   "cell_type": "markdown",
   "id": "d79dd80e",
   "metadata": {},
   "source": [
    "# d. How the revenues from existing/new customers on month on month basis"
   ]
  },
  {
   "cell_type": "code",
   "execution_count": 48,
   "id": "19fa724c",
   "metadata": {},
   "outputs": [],
   "source": [
    "orders['revenue'] = orders['price'] * orders['payment_installments']\n"
   ]
  },
  {
   "cell_type": "code",
   "execution_count": 49,
   "id": "ac9ff99c",
   "metadata": {},
   "outputs": [],
   "source": [
    "orders['customer_type'] = orders.groupby('customer_unique_id')['order_purchase_timestamp'].transform('size').apply(lambda x: 'existing' if x > 1 else 'new')\n"
   ]
  },
  {
   "cell_type": "code",
   "execution_count": 50,
   "id": "cf2e07a4",
   "metadata": {},
   "outputs": [],
   "source": [
    "revenue_by_month_and_type = orders.groupby(['month', 'customer_type'])['revenue'].sum().reset_index()\n"
   ]
  },
  {
   "cell_type": "code",
   "execution_count": 51,
   "id": "3c62f4d6",
   "metadata": {},
   "outputs": [
    {
     "data": {
      "text/html": [
       "<div>\n",
       "<style scoped>\n",
       "    .dataframe tbody tr th:only-of-type {\n",
       "        vertical-align: middle;\n",
       "    }\n",
       "\n",
       "    .dataframe tbody tr th {\n",
       "        vertical-align: top;\n",
       "    }\n",
       "\n",
       "    .dataframe thead th {\n",
       "        text-align: right;\n",
       "    }\n",
       "</style>\n",
       "<table border=\"1\" class=\"dataframe\">\n",
       "  <thead>\n",
       "    <tr style=\"text-align: right;\">\n",
       "      <th></th>\n",
       "      <th>month</th>\n",
       "      <th>customer_type</th>\n",
       "      <th>revenue</th>\n",
       "    </tr>\n",
       "  </thead>\n",
       "  <tbody>\n",
       "    <tr>\n",
       "      <th>0</th>\n",
       "      <td>01</td>\n",
       "      <td>existing</td>\n",
       "      <td>998707.64</td>\n",
       "    </tr>\n",
       "    <tr>\n",
       "      <th>1</th>\n",
       "      <td>01</td>\n",
       "      <td>new</td>\n",
       "      <td>3258869.40</td>\n",
       "    </tr>\n",
       "    <tr>\n",
       "      <th>2</th>\n",
       "      <td>02</td>\n",
       "      <td>existing</td>\n",
       "      <td>1042349.24</td>\n",
       "    </tr>\n",
       "    <tr>\n",
       "      <th>3</th>\n",
       "      <td>02</td>\n",
       "      <td>new</td>\n",
       "      <td>3265074.25</td>\n",
       "    </tr>\n",
       "    <tr>\n",
       "      <th>4</th>\n",
       "      <td>03</td>\n",
       "      <td>existing</td>\n",
       "      <td>1258579.12</td>\n",
       "    </tr>\n",
       "    <tr>\n",
       "      <th>5</th>\n",
       "      <td>03</td>\n",
       "      <td>new</td>\n",
       "      <td>4750403.75</td>\n",
       "    </tr>\n",
       "    <tr>\n",
       "      <th>6</th>\n",
       "      <td>04</td>\n",
       "      <td>existing</td>\n",
       "      <td>1292338.13</td>\n",
       "    </tr>\n",
       "    <tr>\n",
       "      <th>7</th>\n",
       "      <td>04</td>\n",
       "      <td>new</td>\n",
       "      <td>4587335.58</td>\n",
       "    </tr>\n",
       "    <tr>\n",
       "      <th>8</th>\n",
       "      <td>05</td>\n",
       "      <td>existing</td>\n",
       "      <td>1599914.83</td>\n",
       "    </tr>\n",
       "    <tr>\n",
       "      <th>9</th>\n",
       "      <td>05</td>\n",
       "      <td>new</td>\n",
       "      <td>5103829.42</td>\n",
       "    </tr>\n",
       "    <tr>\n",
       "      <th>10</th>\n",
       "      <td>06</td>\n",
       "      <td>existing</td>\n",
       "      <td>1316394.52</td>\n",
       "    </tr>\n",
       "    <tr>\n",
       "      <th>11</th>\n",
       "      <td>06</td>\n",
       "      <td>new</td>\n",
       "      <td>4481675.89</td>\n",
       "    </tr>\n",
       "    <tr>\n",
       "      <th>12</th>\n",
       "      <td>07</td>\n",
       "      <td>existing</td>\n",
       "      <td>1374925.03</td>\n",
       "    </tr>\n",
       "    <tr>\n",
       "      <th>13</th>\n",
       "      <td>07</td>\n",
       "      <td>new</td>\n",
       "      <td>4498760.96</td>\n",
       "    </tr>\n",
       "    <tr>\n",
       "      <th>14</th>\n",
       "      <td>08</td>\n",
       "      <td>existing</td>\n",
       "      <td>1418540.90</td>\n",
       "    </tr>\n",
       "    <tr>\n",
       "      <th>15</th>\n",
       "      <td>08</td>\n",
       "      <td>new</td>\n",
       "      <td>4792719.72</td>\n",
       "    </tr>\n",
       "    <tr>\n",
       "      <th>16</th>\n",
       "      <td>09</td>\n",
       "      <td>existing</td>\n",
       "      <td>741214.73</td>\n",
       "    </tr>\n",
       "    <tr>\n",
       "      <th>17</th>\n",
       "      <td>09</td>\n",
       "      <td>new</td>\n",
       "      <td>2046534.68</td>\n",
       "    </tr>\n",
       "    <tr>\n",
       "      <th>18</th>\n",
       "      <td>10</td>\n",
       "      <td>existing</td>\n",
       "      <td>751954.25</td>\n",
       "    </tr>\n",
       "    <tr>\n",
       "      <th>19</th>\n",
       "      <td>10</td>\n",
       "      <td>new</td>\n",
       "      <td>2498878.52</td>\n",
       "    </tr>\n",
       "    <tr>\n",
       "      <th>20</th>\n",
       "      <td>11</td>\n",
       "      <td>existing</td>\n",
       "      <td>1173146.70</td>\n",
       "    </tr>\n",
       "    <tr>\n",
       "      <th>21</th>\n",
       "      <td>11</td>\n",
       "      <td>new</td>\n",
       "      <td>3339782.67</td>\n",
       "    </tr>\n",
       "    <tr>\n",
       "      <th>22</th>\n",
       "      <td>12</td>\n",
       "      <td>existing</td>\n",
       "      <td>683020.43</td>\n",
       "    </tr>\n",
       "    <tr>\n",
       "      <th>23</th>\n",
       "      <td>12</td>\n",
       "      <td>new</td>\n",
       "      <td>2438401.70</td>\n",
       "    </tr>\n",
       "  </tbody>\n",
       "</table>\n",
       "</div>"
      ],
      "text/plain": [
       "   month customer_type     revenue\n",
       "0     01      existing   998707.64\n",
       "1     01           new  3258869.40\n",
       "2     02      existing  1042349.24\n",
       "3     02           new  3265074.25\n",
       "4     03      existing  1258579.12\n",
       "5     03           new  4750403.75\n",
       "6     04      existing  1292338.13\n",
       "7     04           new  4587335.58\n",
       "8     05      existing  1599914.83\n",
       "9     05           new  5103829.42\n",
       "10    06      existing  1316394.52\n",
       "11    06           new  4481675.89\n",
       "12    07      existing  1374925.03\n",
       "13    07           new  4498760.96\n",
       "14    08      existing  1418540.90\n",
       "15    08           new  4792719.72\n",
       "16    09      existing   741214.73\n",
       "17    09           new  2046534.68\n",
       "18    10      existing   751954.25\n",
       "19    10           new  2498878.52\n",
       "20    11      existing  1173146.70\n",
       "21    11           new  3339782.67\n",
       "22    12      existing   683020.43\n",
       "23    12           new  2438401.70"
      ]
     },
     "execution_count": 51,
     "metadata": {},
     "output_type": "execute_result"
    }
   ],
   "source": [
    "revenue_by_month_and_type"
   ]
  },
  {
   "cell_type": "markdown",
   "id": "632394c8",
   "metadata": {},
   "source": [
    "# e.Understand the trends/seasonality of sales, quantity by category, location, month, week, day, time, channel, payment method etc…"
   ]
  },
  {
   "cell_type": "code",
   "execution_count": 52,
   "id": "7c6af08f",
   "metadata": {},
   "outputs": [
    {
     "ename": "AttributeError",
     "evalue": "Can only use .dt accessor with datetimelike values",
     "output_type": "error",
     "traceback": [
      "\u001b[1;31m---------------------------------------------------------------------------\u001b[0m",
      "\u001b[1;31mAttributeError\u001b[0m                            Traceback (most recent call last)",
      "\u001b[1;32m~\\AppData\\Local\\Temp\\ipykernel_9200\\2412754173.py\u001b[0m in \u001b[0;36m<module>\u001b[1;34m\u001b[0m\n\u001b[0;32m      1\u001b[0m \u001b[1;31m# Create new columns for year, month, week, day, and time\u001b[0m\u001b[1;33m\u001b[0m\u001b[1;33m\u001b[0m\u001b[0m\n\u001b[1;32m----> 2\u001b[1;33m \u001b[0morders\u001b[0m\u001b[1;33m[\u001b[0m\u001b[1;34m'year'\u001b[0m\u001b[1;33m]\u001b[0m \u001b[1;33m=\u001b[0m \u001b[0morders\u001b[0m\u001b[1;33m[\u001b[0m\u001b[1;34m'order_purchase_timestamp'\u001b[0m\u001b[1;33m]\u001b[0m\u001b[1;33m.\u001b[0m\u001b[0mdt\u001b[0m\u001b[1;33m.\u001b[0m\u001b[0myear\u001b[0m\u001b[1;33m\u001b[0m\u001b[1;33m\u001b[0m\u001b[0m\n\u001b[0m\u001b[0;32m      3\u001b[0m \u001b[0morders\u001b[0m\u001b[1;33m[\u001b[0m\u001b[1;34m'week'\u001b[0m\u001b[1;33m]\u001b[0m \u001b[1;33m=\u001b[0m \u001b[0morders\u001b[0m\u001b[1;33m[\u001b[0m\u001b[1;34m'order_purchase_timestamp'\u001b[0m\u001b[1;33m]\u001b[0m\u001b[1;33m.\u001b[0m\u001b[0mdt\u001b[0m\u001b[1;33m.\u001b[0m\u001b[0mweek\u001b[0m\u001b[1;33m\u001b[0m\u001b[1;33m\u001b[0m\u001b[0m\n\u001b[0;32m      4\u001b[0m \u001b[0morders\u001b[0m\u001b[1;33m[\u001b[0m\u001b[1;34m'day'\u001b[0m\u001b[1;33m]\u001b[0m \u001b[1;33m=\u001b[0m \u001b[0morders\u001b[0m\u001b[1;33m[\u001b[0m\u001b[1;34m'order_purchase_timestamp'\u001b[0m\u001b[1;33m]\u001b[0m\u001b[1;33m.\u001b[0m\u001b[0mdt\u001b[0m\u001b[1;33m.\u001b[0m\u001b[0mday\u001b[0m\u001b[1;33m\u001b[0m\u001b[1;33m\u001b[0m\u001b[0m\n\u001b[0;32m      5\u001b[0m \u001b[0morders\u001b[0m\u001b[1;33m[\u001b[0m\u001b[1;34m'time'\u001b[0m\u001b[1;33m]\u001b[0m \u001b[1;33m=\u001b[0m \u001b[0morders\u001b[0m\u001b[1;33m[\u001b[0m\u001b[1;34m'order_purchase_timestamp'\u001b[0m\u001b[1;33m]\u001b[0m\u001b[1;33m.\u001b[0m\u001b[0mdt\u001b[0m\u001b[1;33m.\u001b[0m\u001b[0mtime\u001b[0m\u001b[1;33m\u001b[0m\u001b[1;33m\u001b[0m\u001b[0m\n",
      "\u001b[1;32mC:\\ProgramData\\Anaconda3\\lib\\site-packages\\pandas\\core\\generic.py\u001b[0m in \u001b[0;36m__getattr__\u001b[1;34m(self, name)\u001b[0m\n\u001b[0;32m   5573\u001b[0m         ):\n\u001b[0;32m   5574\u001b[0m             \u001b[1;32mreturn\u001b[0m \u001b[0mself\u001b[0m\u001b[1;33m[\u001b[0m\u001b[0mname\u001b[0m\u001b[1;33m]\u001b[0m\u001b[1;33m\u001b[0m\u001b[1;33m\u001b[0m\u001b[0m\n\u001b[1;32m-> 5575\u001b[1;33m         \u001b[1;32mreturn\u001b[0m \u001b[0mobject\u001b[0m\u001b[1;33m.\u001b[0m\u001b[0m__getattribute__\u001b[0m\u001b[1;33m(\u001b[0m\u001b[0mself\u001b[0m\u001b[1;33m,\u001b[0m \u001b[0mname\u001b[0m\u001b[1;33m)\u001b[0m\u001b[1;33m\u001b[0m\u001b[1;33m\u001b[0m\u001b[0m\n\u001b[0m\u001b[0;32m   5576\u001b[0m \u001b[1;33m\u001b[0m\u001b[0m\n\u001b[0;32m   5577\u001b[0m     \u001b[1;32mdef\u001b[0m \u001b[0m__setattr__\u001b[0m\u001b[1;33m(\u001b[0m\u001b[0mself\u001b[0m\u001b[1;33m,\u001b[0m \u001b[0mname\u001b[0m\u001b[1;33m:\u001b[0m \u001b[0mstr\u001b[0m\u001b[1;33m,\u001b[0m \u001b[0mvalue\u001b[0m\u001b[1;33m)\u001b[0m \u001b[1;33m->\u001b[0m \u001b[1;32mNone\u001b[0m\u001b[1;33m:\u001b[0m\u001b[1;33m\u001b[0m\u001b[1;33m\u001b[0m\u001b[0m\n",
      "\u001b[1;32mC:\\ProgramData\\Anaconda3\\lib\\site-packages\\pandas\\core\\accessor.py\u001b[0m in \u001b[0;36m__get__\u001b[1;34m(self, obj, cls)\u001b[0m\n\u001b[0;32m    180\u001b[0m             \u001b[1;31m# we're accessing the attribute of the class, i.e., Dataset.geo\u001b[0m\u001b[1;33m\u001b[0m\u001b[1;33m\u001b[0m\u001b[0m\n\u001b[0;32m    181\u001b[0m             \u001b[1;32mreturn\u001b[0m \u001b[0mself\u001b[0m\u001b[1;33m.\u001b[0m\u001b[0m_accessor\u001b[0m\u001b[1;33m\u001b[0m\u001b[1;33m\u001b[0m\u001b[0m\n\u001b[1;32m--> 182\u001b[1;33m         \u001b[0maccessor_obj\u001b[0m \u001b[1;33m=\u001b[0m \u001b[0mself\u001b[0m\u001b[1;33m.\u001b[0m\u001b[0m_accessor\u001b[0m\u001b[1;33m(\u001b[0m\u001b[0mobj\u001b[0m\u001b[1;33m)\u001b[0m\u001b[1;33m\u001b[0m\u001b[1;33m\u001b[0m\u001b[0m\n\u001b[0m\u001b[0;32m    183\u001b[0m         \u001b[1;31m# Replace the property with the accessor object. Inspired by:\u001b[0m\u001b[1;33m\u001b[0m\u001b[1;33m\u001b[0m\u001b[0m\n\u001b[0;32m    184\u001b[0m         \u001b[1;31m# https://www.pydanny.com/cached-property.html\u001b[0m\u001b[1;33m\u001b[0m\u001b[1;33m\u001b[0m\u001b[0m\n",
      "\u001b[1;32mC:\\ProgramData\\Anaconda3\\lib\\site-packages\\pandas\\core\\indexes\\accessors.py\u001b[0m in \u001b[0;36m__new__\u001b[1;34m(cls, data)\u001b[0m\n\u001b[0;32m    507\u001b[0m             \u001b[1;32mreturn\u001b[0m \u001b[0mPeriodProperties\u001b[0m\u001b[1;33m(\u001b[0m\u001b[0mdata\u001b[0m\u001b[1;33m,\u001b[0m \u001b[0morig\u001b[0m\u001b[1;33m)\u001b[0m\u001b[1;33m\u001b[0m\u001b[1;33m\u001b[0m\u001b[0m\n\u001b[0;32m    508\u001b[0m \u001b[1;33m\u001b[0m\u001b[0m\n\u001b[1;32m--> 509\u001b[1;33m         \u001b[1;32mraise\u001b[0m \u001b[0mAttributeError\u001b[0m\u001b[1;33m(\u001b[0m\u001b[1;34m\"Can only use .dt accessor with datetimelike values\"\u001b[0m\u001b[1;33m)\u001b[0m\u001b[1;33m\u001b[0m\u001b[1;33m\u001b[0m\u001b[0m\n\u001b[0m",
      "\u001b[1;31mAttributeError\u001b[0m: Can only use .dt accessor with datetimelike values"
     ]
    }
   ],
   "source": [
    "# Create new columns for year, month, week, day, and time\n",
    "orders['year'] = orders['order_purchase_timestamp'].dt.year\n",
    "orders['week'] = orders['order_purchase_timestamp'].dt.week\n",
    "orders['day'] = orders['order_purchase_timestamp'].dt.day\n",
    "orders['time'] = orders['order_purchase_timestamp'].dt.time\n"
   ]
  },
  {
   "cell_type": "code",
   "execution_count": null,
   "id": "8c8b1afe",
   "metadata": {},
   "outputs": [],
   "source": [
    "orders['sales'] = orders['price'] * orders['payment_installments']\n"
   ]
  },
  {
   "cell_type": "code",
   "execution_count": null,
   "id": "20bf3ffc",
   "metadata": {},
   "outputs": [],
   "source": [
    "# Group the data by category and plot the sales and quantity for each category\n",
    "orders_category = orders.groupby('product_category_name')['sales'].sum()\n",
    "orders_category.plot(kind='line', figsize=(20, 7))\n",
    "plt.title(\"Sales by Category\")\n",
    "plt.xlabel(\"Category\")\n",
    "plt.ylabel(\"Sales\")\n",
    "plt.show()\n"
   ]
  },
  {
   "cell_type": "code",
   "execution_count": null,
   "id": "290d97e2",
   "metadata": {},
   "outputs": [],
   "source": [
    "# Sales trend by month\n",
    "sales_by_month = orders.groupby(['month'])['payment_value'].sum()\n",
    "sales_by_month.plot(kind='bar', figsize=(10,5))\n",
    "plt.title(\"Sales Trend by Month\")\n",
    "plt.xlabel(\"Month\")\n",
    "plt.ylabel(\"Sales\")\n",
    "plt.show()"
   ]
  },
  {
   "cell_type": "code",
   "execution_count": null,
   "id": "95f3289a",
   "metadata": {},
   "outputs": [],
   "source": [
    "# Sales trend by location\n",
    "sales_by_location = orders.groupby(['geolocation_city'])['payment_value'].sum()\n",
    "sales_by_location.plot(kind='bar', figsize=(20,10))\n",
    "plt.title(\"Sales Trend by Location\")\n",
    "plt.xlabel(\"Location\")\n",
    "plt.ylabel(\"Sales\")\n",
    "plt.show()"
   ]
  },
  {
   "cell_type": "code",
   "execution_count": null,
   "id": "606192fd",
   "metadata": {},
   "outputs": [],
   "source": [
    "# Sales trend by week\n",
    "sales_by_week = orders.groupby(['week'])['payment_value'].sum()\n",
    "sales_by_week.plot(kind='bar', figsize=(10,5))\n",
    "plt.title(\"Sales Trend by Week\")\n",
    "plt.xlabel(\"Week\")\n",
    "plt.ylabel(\"Sales\")\n",
    "plt.show()"
   ]
  },
  {
   "cell_type": "code",
   "execution_count": null,
   "id": "b2dd439b",
   "metadata": {},
   "outputs": [],
   "source": [
    "# Sales trend by day\n",
    "sales_by_day = orders.groupby(['day'])['payment_value'].sum()\n",
    "sales_by_day.plot(kind='line', figsize=(15,5))\n",
    "plt.title(\"Sales Trend by Day\")\n",
    "plt.xlabel(\"Day\")\n",
    "plt.ylabel(\"Sales\")\n",
    "plt.show()"
   ]
  },
  {
   "cell_type": "code",
   "execution_count": null,
   "id": "53631815",
   "metadata": {},
   "outputs": [],
   "source": [
    "# Sales trend by time\n",
    "sales_by_time = orders.groupby(['time'])['payment_value'].sum()\n",
    "sales_by_time.plot(kind='line', figsize=(20,5))\n",
    "plt.title(\"Sales Trend by Time\")\n",
    "plt.xlabel(\"Time\")\n",
    "plt.ylabel(\"Sales\")\n",
    "plt.show()\n"
   ]
  },
  {
   "cell_type": "code",
   "execution_count": null,
   "id": "36ad8797",
   "metadata": {},
   "outputs": [],
   "source": [
    "# sales_by_payment_type\n",
    "sales_by_payment_type = orders.groupby(['payment_type'])['payment_value'].sum()\n",
    "sales_by_payment_type.plot(kind='bar', figsize=(10,5))\n",
    "plt.title(\"Sales Trend by payment method\")\n",
    "plt.xlabel(\"payment method\")\n",
    "plt.ylabel(\"Sales\")\n",
    "plt.show()"
   ]
  },
  {
   "cell_type": "markdown",
   "id": "060b26a1",
   "metadata": {},
   "source": [
    "# g. Popular categories by state, month\n"
   ]
  },
  {
   "cell_type": "code",
   "execution_count": null,
   "id": "0cf64a94",
   "metadata": {},
   "outputs": [],
   "source": [
    "grouped = orders.groupby([\"month\", \"seller_state\", \"product_category_name\"]).agg({'sales': 'sum'})\n",
    "\n",
    "# Pivot the data to create the bar graph\n",
    "pivot = grouped.pivot_table(index=\"month\", columns=\"product_category_name\", values=\"sales\")\n",
    "\n",
    "pivot"
   ]
  },
  {
   "cell_type": "code",
   "execution_count": null,
   "id": "d123ac53",
   "metadata": {},
   "outputs": [],
   "source": [
    "ax=pivot.plot(kind='bar',figsize=(25,13),width=0.8\n",
    "             )\n",
    "ax.legend(loc=\"center left\", bbox_to_anchor=(1.0, 0.5),fontsize=4)\n",
    "\n"
   ]
  },
  {
   "cell_type": "code",
   "execution_count": null,
   "id": "643640fc",
   "metadata": {},
   "outputs": [],
   "source": [
    "pivot2= grouped.pivot_table(index=\"seller_state\", columns=\"product_category_name\", values=\"sales\")\n",
    "pivot2"
   ]
  },
  {
   "cell_type": "code",
   "execution_count": null,
   "id": "6f48edb0",
   "metadata": {},
   "outputs": [],
   "source": [
    "ax=pivot.plot(kind='bar',figsize=(40,13),width=0.9\n",
    "             )\n",
    "ax.legend(loc=\"center left\", bbox_to_anchor=(1.0, 0.5),fontsize=6)"
   ]
  },
  {
   "cell_type": "markdown",
   "id": "95157fba",
   "metadata": {},
   "source": [
    "# h. List top 10 most expensive products sorted by price\n"
   ]
  },
  {
   "cell_type": "code",
   "execution_count": null,
   "id": "e0f16ad4",
   "metadata": {},
   "outputs": [],
   "source": [
    "# sort the data by price in descending order\n",
    "orders = orders.sort_values(by='price', ascending=False)"
   ]
  },
  {
   "cell_type": "code",
   "execution_count": null,
   "id": "e2547a6a",
   "metadata": {},
   "outputs": [],
   "source": [
    "orderstop_10_expensive = orders.head(10)\n",
    "\n",
    "top_10_expensive = orderstop_10_expensive[['product_id', 'price']]\n"
   ]
  },
  {
   "cell_type": "code",
   "execution_count": null,
   "id": "f3de1095",
   "metadata": {},
   "outputs": [],
   "source": [
    "top_10_expensive"
   ]
  },
  {
   "cell_type": "markdown",
   "id": "fdb64c34",
   "metadata": {},
   "source": [
    "# 2.Performing Customers/sellers Segmentation\n",
    "a. Divide the customers into groups based on the revenue generated \n",
    "\n",
    "b. Divide the sellers into groups based on the revenue generated "
   ]
  },
  {
   "cell_type": "code",
   "execution_count": null,
   "id": "5c864140",
   "metadata": {},
   "outputs": [],
   "source": [
    "# Divide the customers into groups based on the revenue generated\n",
    "# Create a new column 'revenue_group' based on the customer's revenue\n",
    "bins = [0, 500, 1000, 1500, 2000, float('inf')]\n",
    "labels = ['Low', 'Low-Medium', 'Medium', 'High-Medium', 'High']\n",
    "orders['cust_revenue_group'] = pd.cut(orders['revenue'], bins=bins, labels=labels)\n",
    "\n",
    "# Show the updated dataframe\n",
    "orders= orders.reset_index()"
   ]
  },
  {
   "cell_type": "code",
   "execution_count": null,
   "id": "a5b4812e",
   "metadata": {},
   "outputs": [],
   "source": [
    "orders[[\"cust_revenue_group\",\"customer_id\"]]"
   ]
  },
  {
   "cell_type": "code",
   "execution_count": null,
   "id": "0d5edb66",
   "metadata": {},
   "outputs": [],
   "source": [
    "\n",
    "# Group data by seller_id and calculate the sum of revenue for each seller\n",
    "grouped = orders.groupby('seller_id').sum().reset_index()\n",
    "\n",
    "# Create a new column \"group\" based on the revenue generated by each seller\n",
    "bins = [0, 1000, 5000, 10000, 50000, 100000, grouped['revenue'].max()]\n",
    "orders['seller_revenue_group'] = pd.cut(orders['revenue'], bins, labels=['Low', 'Low-Medium', 'Medium', 'Medium-High', 'High', 'Very High'])\n",
    "\n",
    "orders"
   ]
  },
  {
   "cell_type": "code",
   "execution_count": null,
   "id": "a0b6a635",
   "metadata": {},
   "outputs": [],
   "source": [
    "orders[[\"seller_revenue_group\",\"customer_id\"]]"
   ]
  },
  {
   "cell_type": "markdown",
   "id": "87d9ba4a",
   "metadata": {},
   "source": [
    "# 3.Cross-Selling (Which products are selling together)\n",
    "Hint: We need to find which of the top 10 combinations of products are selling together in \n",
    "each transaction. (combination of 2 or 3 buying together)\n"
   ]
  },
  {
   "cell_type": "code",
   "execution_count": null,
   "id": "0b5a2224",
   "metadata": {},
   "outputs": [],
   "source": [
    "orders.columns"
   ]
  },
  {
   "cell_type": "code",
   "execution_count": null,
   "id": "ca131480",
   "metadata": {},
   "outputs": [],
   "source": [
    "# Find all product combinations\n",
    "from itertools import combinations\n",
    "combinations_list = list(combinations(orders['product_id'].unique(), 2)) + \\\n",
    "                     list(combinations(orders['product_id'].unique(), 3))\n",
    "\n",
    "# Count frequency of each combination\n",
    "combination_counts = defaultdict(int)\n",
    "for comb in combinations_list:\n",
    "    comb_orders = orders[orders['product_id'].isin(comb)]\n",
    "    comb_order_ids = comb_orders.groupby('order_id').agg({'product_id': 'count'})\n",
    "    comb_order_ids = comb_order_ids[comb_order_ids['product_id'] == len(comb)].index\n",
    "    comb_products = comb_orders[comb_orders['order_id'].isin(comb_order_ids)]\n",
    "    combination_counts[comb] = comb_products.shape[0]\n",
    "\n",
    "# Get the top 10 combinations\n",
    "top_10_combinations = sorted(combination_counts.items(), key=lambda x: x[1], reverse=True)[:10]\n",
    "\n",
    "# Print the result\n",
    "for comb, count in top_10_combinations:\n",
    "    print(\"Combination: {}\\tCount: {}\".format(comb, count))\n"
   ]
  },
  {
   "cell_type": "markdown",
   "id": "19a1be52",
   "metadata": {},
   "source": [
    "# 4. Payment Behaviour\n",
    "a. How customers are paying?\n",
    "\n",
    "b. Which payment channels are used by most customers?"
   ]
  },
  {
   "cell_type": "code",
   "execution_count": null,
   "id": "b19e5fed",
   "metadata": {},
   "outputs": [],
   "source": [
    "grouped = orders.groupby(\"payment_installments\")[\"order_id\"].count()\n",
    "grouped.reset_index()"
   ]
  },
  {
   "cell_type": "code",
   "execution_count": null,
   "id": "593e81c2",
   "metadata": {},
   "outputs": [],
   "source": [
    "grouped.plot(kind=\"bar\")\n",
    "\n",
    "# add a title and labels for the x and y axis\n",
    "plt.title(\"Payment Methods Used by Customers\")\n",
    "plt.xlabel(\"Payment Type\")\n",
    "plt.ylabel(\"Number of Orders\")"
   ]
  },
  {
   "cell_type": "code",
   "execution_count": null,
   "id": "5770389a",
   "metadata": {},
   "outputs": [],
   "source": [
    "payment_channel = orders.groupby(\"payment_type\")[\"order_id\"].count()\n",
    "\n",
    "# plot the results using a bar chart\n",
    "payment_channel.plot(kind=\"bar\")\n",
    "\n",
    "# add a title and labels for the x and y axis\n",
    "plt.title(\"Payment Methods Used by Customers\")\n",
    "plt.xlabel(\"Payment Type\")\n",
    "plt.ylabel(\"Number of Orders\")\n"
   ]
  },
  {
   "cell_type": "markdown",
   "id": "82943a8b",
   "metadata": {},
   "source": [
    "# 5. Customer satisfaction towards category & product\n",
    "\n",
    "a. Which categories (top 10) are maximum rated & minimum rated?\n",
    "\n",
    "b. Which products (top10) are maximum rated & minimum rated?\n",
    "\n",
    "c. Average rating by location, seller, product, category, month etc."
   ]
  },
  {
   "cell_type": "code",
   "execution_count": null,
   "id": "1f59a4dc",
   "metadata": {},
   "outputs": [],
   "source": [
    "# group the data by product category name and calculate the average rating for each category\n",
    "grouped = orders.groupby(\"product_category_name\")[\"review_score\"].mean()\n",
    "\n",
    "# sort the results in ascending order\n",
    "grouped_sorted = grouped.sort_values()\n",
    "\n",
    "# get the top 10 categories with the lowest average rating\n",
    "bottom_10 = grouped_sorted.head(10)\n",
    "\n",
    "# get the top 10 categories with the highest average rating\n",
    "top_10 = grouped_sorted.tail(10)"
   ]
  },
  {
   "cell_type": "code",
   "execution_count": null,
   "id": "8298e883",
   "metadata": {},
   "outputs": [],
   "source": [
    "top_10.plot(kind=\"bar\", color=\"green\", title=\"Top 10 Categories (Highest Rated)\")"
   ]
  },
  {
   "cell_type": "code",
   "execution_count": null,
   "id": "c619facf",
   "metadata": {},
   "outputs": [],
   "source": [
    "bottom_10.plot(kind=\"bar\", color=\"red\", title=\"Bottom 10 Categories (Lowest Rated)\")\n"
   ]
  },
  {
   "cell_type": "code",
   "execution_count": null,
   "id": "fbb79d27",
   "metadata": {},
   "outputs": [],
   "source": [
    "# group the data by product ID and calculate the average rating for each product\n",
    "grouped = orders.groupby(\"product_id\")[\"review_score\"].mean()\n",
    "\n",
    "# sort the results in ascending order\n",
    "grouped_sorted = grouped.sort_values()\n",
    "\n",
    "# get the top 10 products with the lowest average rating\n",
    "bottom_10 = grouped_sorted.head(10)\n",
    "\n",
    "# get the top 10 products with the highest average rating\n",
    "top_10 = grouped_sorted.tail(10)\n",
    "\n",
    "# plot the results using bar charts\n",
    "top_10.plot(kind=\"bar\", color=\"green\", title=\"Top 10 Products (Highest Rated)\")\n",
    "\n",
    "# add labels for the x and y axis\n",
    "plt.xlabel(\"Product ID\")\n",
    "plt.ylabel(\"Average Rating\")\n",
    "\n",
    "# show the plots\n",
    "plt.show()\n"
   ]
  },
  {
   "cell_type": "code",
   "execution_count": null,
   "id": "662c5ad3",
   "metadata": {},
   "outputs": [],
   "source": [
    "bottom_10.plot(kind=\"bar\", color=\"red\", title=\"Bottom 10 Products (Lowest Rated)\")\n",
    "# add labels for the x and y axis\n",
    "plt.xlabel(\"Product ID\")\n",
    "plt.ylabel(\"Average Rating\")\n",
    "plt.show()\n"
   ]
  },
  {
   "cell_type": "code",
   "execution_count": null,
   "id": "7b543ef7",
   "metadata": {},
   "outputs": [],
   "source": [
    "#c)\n",
    "# group the data by location and calculate the average rating for each location\n",
    "avg_location_rating = orders.groupby(\"geolocation_city\")[\"review_score\"].mean().reset_index()\n",
    "avg_location_rating"
   ]
  },
  {
   "cell_type": "code",
   "execution_count": null,
   "id": "6cff9e48",
   "metadata": {},
   "outputs": [],
   "source": [
    "# group the data by seller and calculate the average rating for each seller\n",
    "seller_avg_rating = orders.groupby(\"seller_id\")[\"review_score\"].mean().reset_index()\n"
   ]
  },
  {
   "cell_type": "code",
   "execution_count": null,
   "id": "7db6a66f",
   "metadata": {},
   "outputs": [],
   "source": [
    "seller_avg_rating.head()"
   ]
  },
  {
   "cell_type": "code",
   "execution_count": null,
   "id": "e2c97754",
   "metadata": {},
   "outputs": [],
   "source": [
    "# group the data by product and calculate the average rating for each product\n",
    "product_avg_rating = orders.groupby(\"product_id\")[\"review_score\"].mean().reset_index()"
   ]
  },
  {
   "cell_type": "code",
   "execution_count": null,
   "id": "6e095e00",
   "metadata": {},
   "outputs": [],
   "source": [
    "product_avg_rating"
   ]
  },
  {
   "cell_type": "code",
   "execution_count": null,
   "id": "8809eaf0",
   "metadata": {},
   "outputs": [],
   "source": [
    "# group the data by category and calculate the average rating for each category\n",
    "category_avg_rating = orders.groupby(\"product_category_name\")[\"review_score\"].mean().reset_index()\n",
    "category_avg_rating"
   ]
  },
  {
   "cell_type": "code",
   "execution_count": null,
   "id": "5cdb2bdf",
   "metadata": {},
   "outputs": [],
   "source": [
    "category_avg_rating.plot(kind=\"bar\", title=\"Average Rating by Category\",figsize=(20,10))\n",
    "plt.xlabel(\"Category\")\n",
    "plt.ylabel(\"Average Rating\")\n",
    "plt.show()"
   ]
  },
  {
   "cell_type": "code",
   "execution_count": null,
   "id": "f606fe81",
   "metadata": {},
   "outputs": [],
   "source": [
    "# group the data by month and calculate the average rating for each month\n",
    "orders[\"month\"] = pd.to_datetime(orders[\"review_creation_date\"]).dt.month\n",
    "month_rating = orders.groupby(\"month\")[\"review_score\"].mean()\n",
    "month_rating"
   ]
  },
  {
   "cell_type": "code",
   "execution_count": null,
   "id": "0c6cd5aa",
   "metadata": {},
   "outputs": [],
   "source": [
    "month_rating.plot(kind=\"bar\", title=\"Average Rating by Month\")\n",
    "plt.xlabel(\"Month\")\n",
    "plt.ylabel(\"Average Rating\")\n",
    "plt.show()"
   ]
  },
  {
   "cell_type": "code",
   "execution_count": null,
   "id": "5a22b271",
   "metadata": {},
   "outputs": [],
   "source": [
    "orders.columns"
   ]
  },
  {
   "cell_type": "code",
   "execution_count": null,
   "id": "05986cd1",
   "metadata": {},
   "outputs": [],
   "source": []
  },
  {
   "cell_type": "code",
   "execution_count": null,
   "id": "2220d1a0",
   "metadata": {},
   "outputs": [],
   "source": []
  },
  {
   "cell_type": "code",
   "execution_count": null,
   "id": "40e45695",
   "metadata": {},
   "outputs": [],
   "source": []
  },
  {
   "cell_type": "code",
   "execution_count": null,
   "id": "4fecb2ed",
   "metadata": {},
   "outputs": [],
   "source": []
  }
 ],
 "metadata": {
  "kernelspec": {
   "display_name": "Python 3 (ipykernel)",
   "language": "python",
   "name": "python3"
  },
  "language_info": {
   "codemirror_mode": {
    "name": "ipython",
    "version": 3
   },
   "file_extension": ".py",
   "mimetype": "text/x-python",
   "name": "python",
   "nbconvert_exporter": "python",
   "pygments_lexer": "ipython3",
   "version": "3.9.13"
  }
 },
 "nbformat": 4,
 "nbformat_minor": 5
}
